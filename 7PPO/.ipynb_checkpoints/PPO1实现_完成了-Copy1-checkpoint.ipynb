{
 "cells": [
  {
   "cell_type": "markdown",
   "metadata": {},
   "source": [
    "# 为啥训练到一定次数，ratio会变成nan？\n",
    "# 为什么pi_prob(a)是(32,1)\n",
    "# 而我的pi_prob(a)却是(32,32)\n",
    "# 我没有理解源码在建立actor网络的时候是怎么建立的，因为不需要构造模型，所以它出来pi不是32个state对应一个策略\n",
    "\n",
    "# 我知道问题出在哪了，因为之前的tfp和tensorflow是一体的，可以构造输出就是tfp的分布的模型\n",
    "# 而现在分开了，tfp的分布不属于一个op，所以没有办法放到模型里\n",
    "\n",
    "# 为什么mu，sigma我们俩的程序都是(32,1),但是莫凡的只输出了1个pi，我却输出了32个。\n",
    "# 也就是说，莫凡是输入了32个s，产生了32个mu，32个sigma，但是只产生了1个pi\n",
    "# 而我产生了32个mu，32个sigma，但是产生了32个pi，正因为如此，之后给了32个a，每个pi都产生了prob，所以prob形状是(32,32)，ratio自然也是(32,32),但是ratio要乘(32,1)的adv，所以出错了！"
   ]
  },
  {
   "cell_type": "code",
   "execution_count": 1,
   "metadata": {},
   "outputs": [],
   "source": [
    "import tensorflow as tf\n",
    "import numpy as np\n",
    "import matplotlib.pyplot as plt\n",
    "import gym\n",
    "import tensorflow_probability as tfp\n",
    "\n",
    "gpus = tf.config.experimental.list_physical_devices(device_type='GPU')\n",
    "tf.config.experimental.set_memory_growth(gpus[0], True)"
   ]
  },
  {
   "cell_type": "code",
   "execution_count": 2,
   "metadata": {},
   "outputs": [],
   "source": [
    "EP_MAX = 300\n",
    "EP_LEN = 300\n",
    "GAMMA = 0.9\n",
    "A_LR = 0.0001\n",
    "C_LR = 0.0002\n",
    "BATCH = 32\n",
    "A_UPDATE_STEPS = 10\n",
    "C_UPDATE_STEPS = 10\n",
    "S_DIM, A_DIM = 3, 1   #举杆子的游戏就是这么个维度\n",
    "METHOD = [\n",
    "    dict(name='kl_pen', kl_target=0.01, lam=0.5),  #更新时候控制old和new参数近似的第一种方法KL\n",
    "    dict(name='clip', epsilon=0.2)                 #更新时的第二种方法CLIP\n",
    "][0]\n"
   ]
  },
  {
   "cell_type": "code",
   "execution_count": 3,
   "metadata": {},
   "outputs": [
    {
     "data": {
      "text/plain": [
       "{'name': 'kl_pen', 'kl_target': 0.01, 'lam': 0.5}"
      ]
     },
     "execution_count": 3,
     "metadata": {},
     "output_type": "execute_result"
    }
   ],
   "source": [
    "METHOD"
   ]
  },
  {
   "cell_type": "code",
   "execution_count": 4,
   "metadata": {},
   "outputs": [],
   "source": [
    "class PPO():\n",
    "    def __init__(self):\n",
    "        self.build_actor()  #创建actor,只创建一个actor，用的时候先后顺序用\n",
    "        self.build_critic() #创建critic\n",
    "\n",
    "    \n",
    "    def build_actor(self):\n",
    "        '''建立网络的结构，actor'''\n",
    "        # actor_new---------------------------------------------\n",
    "        s = tf.keras.layers.Input(shape=(S_DIM,))\n",
    "        l1 = tf.keras.layers.Dense(100, activation='relu',name='l1')(s)\n",
    "        mu = tf.keras.layers.Dense(A_DIM, activation='tanh',name='mu')(l1)\n",
    "        sigma = tf.keras.layers.Dense(A_DIM, activation='softplus',name='sigma')(l1)\n",
    "        \n",
    "        self.actor_new = tf.keras.Model(inputs=s, outputs=[mu,sigma])\n",
    "        self.a_optimizer = tf.keras.optimizers.Adam(A_LR)\n",
    "        \n",
    "        # actor_old-------------------------------------------------\n",
    "        s_1 = tf.keras.layers.Input(shape=(S_DIM,))\n",
    "        l1_1 = tf.keras.layers.Dense(100, activation='relu',name='l1')(s_1)\n",
    "        mu_1 = tf.keras.layers.Dense(A_DIM, activation='tanh',name='mu')(l1_1)\n",
    "        sigma_1 = tf.keras.layers.Dense(A_DIM, activation='softplus',name='sigma')(l1_1)\n",
    "        \n",
    "        self.actor_old = tf.keras.Model(inputs=s_1, outputs=[mu_1,sigma_1])\n",
    "    \n",
    "    def build_critic(self): \n",
    "        '''建立网络的结构，critic'''\n",
    "        # critic\n",
    "        s_c = tf.keras.layers.Input(shape=(S_DIM,))\n",
    "        l1_c = tf.keras.layers.Dense(100, activation='relu')(s_c)\n",
    "        v = tf.keras.layers.Dense(1)(l1_c)\n",
    "        \n",
    "        self.critic = tf.keras.Model(inputs=s_c, outputs=v)\n",
    "        self.c_optimizer = tf.keras.optimizers.Adam(C_LR)\n",
    "        \n",
    "    def update_new_old_actor(self):\n",
    "        '''更新老actor参数'''\n",
    "        #使用set_weights和get_weights的方法对每层的权重进行复制转移\n",
    "        #--------------------actor的两个网络的迁移--------------------------------\n",
    "        self.actor_old.set_weights(self.actor_new.get_weights())\n",
    "        \n",
    "    def learn(self, s, a, r):\n",
    "        '''学习，输入的是batch的s，会产生batch个normdist，对于batch的a，会产生batch*batch的proba'''      \n",
    "        # 旧网络产生的策略,不需要训练\n",
    "        [mu1, sigma1] = self.actor_old(s, training=False)\n",
    "        mu1 *= 2 #为了使-1,1到-2,2内部\n",
    "        \n",
    "        #不要squeeze，直接生成dis\n",
    "        pi_old = tfp.distributions.Normal(mu1, sigma1)  # pi_old是old网络的策略,一共有1个形状为[32,1]\n",
    "        \n",
    "        #每次学习更新一下新旧网络，\n",
    "        self.update_new_old_actor()\n",
    "        \n",
    "        #训练\n",
    "        with tf.GradientTape(persistent=True) as a_tap, tf.GradientTape(persistent=True) as c_tap:\n",
    "            # 新网络产生的策略\n",
    "            # 注意，网络产生的值一定要放在Gradient下面，不然没有梯度\n",
    "            [mu, sigma] = self.actor_new(s)\n",
    "            mu *= 2\n",
    "            \n",
    "            #不要squeeze\n",
    "            pi = tfp.distributions.Normal(mu, sigma)  # pi是现在的策略，[32,1]\n",
    "                    \n",
    "            #计算loss\n",
    "            v = self.critic(s) #计算s的价值\n",
    "            adv = r - v        #计算增益,形状是(32,1)\n",
    "\n",
    "            \n",
    "#             ratio = tf.exp(pi.log_prob(a) - pi_old.log_prob(a))\n",
    "            ratio = pi.prob(a) / pi_old.prob(a)    #ratio的shape应该是(32,1)!!!!!  ,这回肯定是了！\n",
    "#             print('ratio',ratio.shape)\n",
    "            \n",
    "            surr = ratio * adv\n",
    "            \n",
    "            # a的loss计算-------------------------------------------------------------------------------------------------\n",
    "            # a_loss的算法因为两种方法而不同\n",
    "            if METHOD['name'] == 'kl_pen':   # kl方法\n",
    "                lamda = METHOD['lam']\n",
    "                kl = tfp.distributions.kl_divergence(pi_old, pi)  #计算两个策略之间的KL散度\n",
    "                kl_mean = tf.reduce_mean(kl)\n",
    "                a_loss = -(tf.reduce_mean(surr - lamda * kl))\n",
    "                \n",
    "            else:                            # clip方法\n",
    "                a_loss = - tf.reduce_mean(tf.minimum(\n",
    "                    surr,\n",
    "                    tf.clip_by_value(ratio, 1.-METHOD['epsilon'], 1.+METHOD['epsilon'])*adv))\n",
    "                \n",
    "                \n",
    "            # c的loss计算--------------------------------------------------------------------------------------------------\n",
    "            c_loss = tf.reduce_mean(tf.square(adv))\n",
    "                    \n",
    "        # 更新actor----------------------------------------------------------------------------------------------------------\n",
    "        \n",
    "        if METHOD['name'] == 'kl_pen':    #kl方法对应着kl的更新方式\n",
    "            for _ in range(A_UPDATE_STEPS): #给actor更新10次 ,grads在一个循环里面只能调用一次，所以，不能这么写，除非加上persistent\n",
    "                grads_a = a_tap.gradient(a_loss, self.actor_new.trainable_variables)\n",
    "                self.a_optimizer.apply_gradients(zip(grads_a, self.actor_new.trainable_variables))\n",
    "                # 设置内部终止条件\n",
    "                kl_now = kl_mean\n",
    "                if kl_now >4 * METHOD['kl_target']:\n",
    "                    break\n",
    "            if kl_now < METHOD['kl_target']/1.5:\n",
    "                METHOD['lam'] /= 2\n",
    "            elif kl_now > METHOD['kl_target']*1.5:\n",
    "                METHOD['lam'] *= 2\n",
    "            METHOD['lam'] = np.clip(METHOD['lam'], 1e-4, 10)\n",
    "        \n",
    "        else:                            #clip方法对应clip更新方式\n",
    "            for _ in range(A_UPDATE_STEPS): # 就是简单地用clip方式计算的loss给a更新10次\n",
    "                grads_a = a_tap.gradient(a_loss, self.actor_new.trainable_variables)\n",
    "                self.a_optimizer.apply_gradients(zip(grads_a, self.actor_new.trainable_variables))\n",
    "                \n",
    "        # 更新critic------------------------------------------------------------------------------------------------------------\n",
    "        for _ in range(C_UPDATE_STEPS):\n",
    "            grads_c = c_tap.gradient(c_loss, self.critic.trainable_variables)\n",
    "            self.c_optimizer.apply_gradients(zip(grads_c, self.critic.trainable_variables)) \n",
    "        \n",
    "    def choose_action(self, s):\n",
    "        '''choose_action的时候就进来了一个s，所以只会产生一个normdist，也只会sample出来一个a'''\n",
    "        s = np.expand_dims(s, axis=0)\n",
    "        [mu, sigma] = self.actor_new(s, training=False)\n",
    "#         mu = tf.squeeze(mu*2)\n",
    "#         sigma = tf.squeeze(sigma)\n",
    "        mu *= 2\n",
    "        # 不要squeeze，这回就对了，输出形状是[1,1]只取第一维，得到[xx],对应着step！\n",
    "        #创建一个正态分布\n",
    "        normal_dist = tfp.distributions.Normal(mu, sigma)\n",
    "        act_choosed = tf.clip_by_value(normal_dist.sample(1)[0][0], -2,2)  \n",
    "        act_choosed = act_choosed.numpy()\n",
    "        return act_choosed\n",
    "    \n",
    "    def get_v(self, s):\n",
    "        if s.ndim < 2:\n",
    "            s = np.expand_dims(s, axis=0)\n",
    "        v = self.critic(s)\n",
    "        return v[0][0]\n",
    "        "
   ]
  },
  {
   "cell_type": "code",
   "execution_count": 5,
   "metadata": {},
   "outputs": [],
   "source": [
    "ppo = PPO()"
   ]
  },
  {
   "cell_type": "code",
   "execution_count": 6,
   "metadata": {},
   "outputs": [],
   "source": [
    "env = gym.make('Pendulum-v0')\n",
    "all_ep_r = []"
   ]
  },
  {
   "cell_type": "code",
   "execution_count": 7,
   "metadata": {},
   "outputs": [
    {
     "name": "stdout",
     "output_type": "stream",
     "text": [
      "EP: 0 |ep_r: -2787 |Lam: 0.0020\n",
      "EP: 1 |ep_r: -2745 |Lam: 0.0001\n",
      "EP: 2 |ep_r: -2736 |Lam: 0.0001\n",
      "EP: 3 |ep_r: -2752 |Lam: 0.0001\n",
      "EP: 4 |ep_r: -2636 |Lam: 0.0001\n",
      "EP: 5 |ep_r: -2492 |Lam: 0.0001\n",
      "EP: 6 |ep_r: -2502 |Lam: 0.0001\n",
      "EP: 7 |ep_r: -2327 |Lam: 0.0001\n",
      "EP: 8 |ep_r: -2318 |Lam: 0.0001\n",
      "EP: 9 |ep_r: -2232 |Lam: 0.0001\n",
      "EP: 10 |ep_r: -2349 |Lam: 0.0001\n",
      "EP: 11 |ep_r: -1492 |Lam: 0.0002\n",
      "EP: 12 |ep_r: -1840 |Lam: 0.0001\n",
      "EP: 13 |ep_r: -2239 |Lam: 0.0001\n",
      "EP: 14 |ep_r: -2114 |Lam: 0.0001\n",
      "EP: 15 |ep_r: -2021 |Lam: 0.0001\n",
      "EP: 16 |ep_r: -1979 |Lam: 0.0001\n",
      "EP: 17 |ep_r: -2152 |Lam: 0.0001\n",
      "EP: 18 |ep_r: -1966 |Lam: 0.0001\n",
      "EP: 19 |ep_r: -2280 |Lam: 0.0001\n",
      "EP: 20 |ep_r: -2228 |Lam: 0.0001\n",
      "EP: 21 |ep_r: -2158 |Lam: 0.0001\n",
      "EP: 22 |ep_r: -2229 |Lam: 0.0001\n",
      "EP: 23 |ep_r: -2018 |Lam: 0.0001\n",
      "EP: 24 |ep_r: -1825 |Lam: 0.0001\n",
      "EP: 25 |ep_r: -1982 |Lam: 0.0001\n",
      "EP: 26 |ep_r: -1854 |Lam: 0.0001\n",
      "EP: 27 |ep_r: -2290 |Lam: 0.0001\n",
      "EP: 28 |ep_r: -1854 |Lam: 0.0001\n",
      "EP: 29 |ep_r: -1943 |Lam: 0.0001\n",
      "EP: 30 |ep_r: -1773 |Lam: 0.0001\n",
      "EP: 31 |ep_r: -2219 |Lam: 0.0001\n",
      "EP: 32 |ep_r: -2122 |Lam: 0.0001\n",
      "EP: 33 |ep_r: -1486 |Lam: 0.0001\n",
      "EP: 34 |ep_r: -2082 |Lam: 0.0001\n",
      "EP: 35 |ep_r: -1944 |Lam: 0.0001\n",
      "EP: 36 |ep_r: -2081 |Lam: 0.0001\n",
      "EP: 37 |ep_r: -1750 |Lam: 0.0001\n",
      "EP: 38 |ep_r: -1872 |Lam: 0.0001\n",
      "EP: 39 |ep_r: -1894 |Lam: 0.0001\n",
      "EP: 40 |ep_r: -2469 |Lam: 0.0001\n",
      "EP: 41 |ep_r: -1697 |Lam: 0.0001\n",
      "EP: 42 |ep_r: -2391 |Lam: 0.0001\n",
      "EP: 43 |ep_r: -1938 |Lam: 0.0001\n",
      "EP: 44 |ep_r: -2286 |Lam: 0.0001\n",
      "EP: 45 |ep_r: -1777 |Lam: 0.0001\n",
      "EP: 46 |ep_r: -1973 |Lam: 0.0001\n",
      "EP: 47 |ep_r: -1913 |Lam: 0.0001\n",
      "EP: 48 |ep_r: -1998 |Lam: 0.0001\n",
      "EP: 49 |ep_r: -2255 |Lam: 0.0001\n",
      "EP: 50 |ep_r: -1812 |Lam: 0.0001\n",
      "EP: 51 |ep_r: -1774 |Lam: 0.0001\n",
      "EP: 52 |ep_r: -1969 |Lam: 0.0001\n",
      "EP: 53 |ep_r: -1862 |Lam: 0.0001\n",
      "EP: 54 |ep_r: -2273 |Lam: 0.0001\n",
      "EP: 55 |ep_r: -2219 |Lam: 0.0001\n",
      "EP: 56 |ep_r: -2124 |Lam: 0.0001\n",
      "EP: 57 |ep_r: -2380 |Lam: 0.0001\n",
      "EP: 58 |ep_r: -1719 |Lam: 0.0001\n",
      "EP: 59 |ep_r: -1955 |Lam: 0.0001\n",
      "EP: 60 |ep_r: -1695 |Lam: 0.0001\n",
      "EP: 61 |ep_r: -1829 |Lam: 0.0001\n",
      "EP: 62 |ep_r: -2137 |Lam: 0.0001\n",
      "EP: 63 |ep_r: -1837 |Lam: 0.0001\n",
      "EP: 64 |ep_r: -2401 |Lam: 0.0001\n",
      "EP: 65 |ep_r: -2171 |Lam: 0.0001\n",
      "EP: 66 |ep_r: -2098 |Lam: 0.0001\n",
      "EP: 67 |ep_r: -1850 |Lam: 0.0001\n",
      "EP: 68 |ep_r: -1720 |Lam: 0.0001\n",
      "EP: 69 |ep_r: -1832 |Lam: 0.0001\n",
      "EP: 70 |ep_r: -1939 |Lam: 0.0001\n",
      "EP: 71 |ep_r: -1580 |Lam: 0.0001\n",
      "EP: 72 |ep_r: -1863 |Lam: 0.0001\n",
      "EP: 73 |ep_r: -1965 |Lam: 0.0001\n",
      "EP: 74 |ep_r: -1585 |Lam: 0.0001\n",
      "EP: 75 |ep_r: -2185 |Lam: 0.0001\n",
      "EP: 76 |ep_r: -1809 |Lam: 0.0001\n",
      "EP: 77 |ep_r: -1915 |Lam: 0.0001\n",
      "EP: 78 |ep_r: -2319 |Lam: 0.0001\n",
      "EP: 79 |ep_r: -1703 |Lam: 0.0001\n",
      "EP: 80 |ep_r: -1571 |Lam: 0.0001\n",
      "EP: 81 |ep_r: -2034 |Lam: 0.0001\n",
      "EP: 82 |ep_r: -1668 |Lam: 0.0001\n",
      "EP: 83 |ep_r: -1853 |Lam: 0.0001\n",
      "EP: 84 |ep_r: -1889 |Lam: 0.0001\n",
      "EP: 85 |ep_r: -1738 |Lam: 0.0001\n",
      "EP: 86 |ep_r: -1709 |Lam: 0.0001\n",
      "EP: 87 |ep_r: -1707 |Lam: 0.0001\n",
      "EP: 88 |ep_r: -1505 |Lam: 0.0001\n",
      "EP: 89 |ep_r: -1855 |Lam: 0.0001\n",
      "EP: 90 |ep_r: -1738 |Lam: 0.0001\n",
      "EP: 91 |ep_r: -1479 |Lam: 0.0001\n",
      "EP: 92 |ep_r: -1898 |Lam: 0.0001\n",
      "EP: 93 |ep_r: -1593 |Lam: 0.0001\n",
      "EP: 94 |ep_r: -1782 |Lam: 0.0001\n",
      "EP: 95 |ep_r: -1400 |Lam: 0.0001\n",
      "EP: 96 |ep_r: -1598 |Lam: 0.0001\n",
      "EP: 97 |ep_r: -1727 |Lam: 0.0001\n",
      "EP: 98 |ep_r: -1699 |Lam: 0.0001\n",
      "EP: 99 |ep_r: -1755 |Lam: 0.0001\n",
      "EP: 100 |ep_r: -2143 |Lam: 0.0001\n",
      "EP: 101 |ep_r: -1453 |Lam: 0.0001\n",
      "EP: 102 |ep_r: -1856 |Lam: 0.0001\n",
      "EP: 103 |ep_r: -1746 |Lam: 0.0001\n",
      "EP: 104 |ep_r: -2129 |Lam: 0.0001\n",
      "EP: 105 |ep_r: -1625 |Lam: 0.0001\n",
      "EP: 106 |ep_r: -1625 |Lam: 0.0001\n",
      "EP: 107 |ep_r: -1366 |Lam: 0.0001\n",
      "EP: 108 |ep_r: -1382 |Lam: 0.0001\n",
      "EP: 109 |ep_r: -1458 |Lam: 0.0001\n",
      "EP: 110 |ep_r: -2128 |Lam: 0.0001\n",
      "EP: 111 |ep_r: -2357 |Lam: 0.0001\n",
      "EP: 112 |ep_r: -1621 |Lam: 0.0001\n",
      "EP: 113 |ep_r: -1860 |Lam: 0.0001\n",
      "EP: 114 |ep_r: -1875 |Lam: 0.0001\n",
      "EP: 115 |ep_r: -1635 |Lam: 0.0001\n",
      "EP: 116 |ep_r: -1741 |Lam: 0.0001\n",
      "EP: 117 |ep_r: -1794 |Lam: 0.0001\n",
      "EP: 118 |ep_r: -1633 |Lam: 0.0001\n",
      "EP: 119 |ep_r: -1602 |Lam: 0.0001\n",
      "EP: 120 |ep_r: -1401 |Lam: 0.0001\n",
      "EP: 121 |ep_r: -1663 |Lam: 0.0001\n",
      "EP: 122 |ep_r: -2144 |Lam: 0.0001\n",
      "EP: 123 |ep_r: -1399 |Lam: 0.0002\n",
      "EP: 124 |ep_r: -1592 |Lam: 0.0002\n",
      "EP: 125 |ep_r: -1615 |Lam: 0.0001\n",
      "EP: 126 |ep_r: -2300 |Lam: 0.0001\n",
      "EP: 127 |ep_r: -1908 |Lam: 0.0001\n",
      "EP: 128 |ep_r: -1851 |Lam: 0.0001\n",
      "EP: 129 |ep_r: -1700 |Lam: 0.0001\n",
      "EP: 130 |ep_r: -1813 |Lam: 0.0001\n",
      "EP: 131 |ep_r: -1528 |Lam: 0.0001\n",
      "EP: 132 |ep_r: -1558 |Lam: 0.0001\n",
      "EP: 133 |ep_r: -1412 |Lam: 0.0001\n",
      "EP: 134 |ep_r: -2332 |Lam: 0.0001\n",
      "EP: 135 |ep_r: -1956 |Lam: 0.0001\n",
      "EP: 136 |ep_r: -1505 |Lam: 0.0001\n",
      "EP: 137 |ep_r: -2325 |Lam: 0.0001\n",
      "EP: 138 |ep_r: -1082 |Lam: 0.0001\n",
      "EP: 139 |ep_r: -2143 |Lam: 0.0001\n",
      "EP: 140 |ep_r: -1398 |Lam: 0.0001\n",
      "EP: 141 |ep_r: -1013 |Lam: 0.0001\n",
      "EP: 142 |ep_r: -1701 |Lam: 0.0001\n",
      "EP: 143 |ep_r: -2345 |Lam: 0.0001\n",
      "EP: 144 |ep_r: -1696 |Lam: 0.0001\n",
      "EP: 145 |ep_r: -1560 |Lam: 0.0004\n",
      "EP: 146 |ep_r: -1533 |Lam: 0.0001\n",
      "EP: 147 |ep_r: -1695 |Lam: 0.0001\n",
      "EP: 148 |ep_r: -1711 |Lam: 0.0001\n",
      "EP: 149 |ep_r: -1176 |Lam: 0.0001\n",
      "EP: 150 |ep_r: -1500 |Lam: 0.0001\n",
      "EP: 151 |ep_r: -1552 |Lam: 0.0001\n",
      "EP: 152 |ep_r: -1886 |Lam: 0.0001\n",
      "EP: 153 |ep_r: -1427 |Lam: 0.0001\n",
      "EP: 154 |ep_r: -1452 |Lam: 0.0001\n",
      "EP: 155 |ep_r: -1750 |Lam: 0.0001\n",
      "EP: 156 |ep_r: -1035 |Lam: 0.0001\n",
      "EP: 157 |ep_r: -1864 |Lam: 0.0001\n",
      "EP: 158 |ep_r: -1810 |Lam: 0.0001\n",
      "EP: 159 |ep_r: -1443 |Lam: 0.0001\n",
      "EP: 160 |ep_r: -2278 |Lam: 0.0001\n",
      "EP: 161 |ep_r: -1152 |Lam: 0.0001\n",
      "EP: 162 |ep_r: -1301 |Lam: 0.0001\n",
      "EP: 163 |ep_r: -1544 |Lam: 0.0001\n",
      "EP: 164 |ep_r: -1022 |Lam: 0.0001\n",
      "EP: 165 |ep_r: -2315 |Lam: 0.0001\n",
      "EP: 166 |ep_r: -1541 |Lam: 0.0001\n",
      "EP: 167 |ep_r: -1555 |Lam: 0.0001\n",
      "EP: 168 |ep_r: -1453 |Lam: 0.0001\n",
      "EP: 169 |ep_r: -2025 |Lam: 0.0002\n",
      "EP: 170 |ep_r: -1435 |Lam: 0.0001\n",
      "EP: 171 |ep_r: -1035 |Lam: 0.0002\n",
      "EP: 172 |ep_r: -1882 |Lam: 0.0256\n",
      "EP: 173 |ep_r: -2205 |Lam: 10.0000\n",
      "EP: 174 |ep_r: -1872 |Lam: 0.0781\n",
      "EP: 175 |ep_r: -2331 |Lam: 0.0001\n",
      "EP: 176 |ep_r: -2024 |Lam: 0.0001\n",
      "EP: 177 |ep_r: -2175 |Lam: 0.0001\n",
      "EP: 178 |ep_r: -2114 |Lam: 0.0001\n",
      "EP: 179 |ep_r: -2304 |Lam: 0.0001\n",
      "EP: 180 |ep_r: -2134 |Lam: 0.0001\n",
      "EP: 181 |ep_r: -2340 |Lam: 0.0001\n",
      "EP: 182 |ep_r: -2193 |Lam: 0.0001\n",
      "EP: 183 |ep_r: -2152 |Lam: 0.0001\n",
      "EP: 184 |ep_r: -2079 |Lam: 0.0001\n",
      "EP: 185 |ep_r: -2055 |Lam: 0.0001\n",
      "EP: 186 |ep_r: -2227 |Lam: 0.0001\n",
      "EP: 187 |ep_r: -2333 |Lam: 0.0001\n",
      "EP: 188 |ep_r: -1905 |Lam: 0.0001\n",
      "EP: 189 |ep_r: -2044 |Lam: 0.0001\n",
      "EP: 190 |ep_r: -1913 |Lam: 0.0001\n",
      "EP: 191 |ep_r: -2007 |Lam: 0.0001\n",
      "EP: 192 |ep_r: -2177 |Lam: 0.0001\n",
      "EP: 193 |ep_r: -2274 |Lam: 0.0001\n",
      "EP: 194 |ep_r: -2066 |Lam: 0.0001\n",
      "EP: 195 |ep_r: -2274 |Lam: 0.0001\n",
      "EP: 196 |ep_r: -2188 |Lam: 0.0001\n",
      "EP: 197 |ep_r: -1862 |Lam: 0.0001\n",
      "EP: 198 |ep_r: -2072 |Lam: 0.0001\n",
      "EP: 199 |ep_r: -2320 |Lam: 0.0001\n",
      "EP: 200 |ep_r: -1987 |Lam: 0.0001\n",
      "EP: 201 |ep_r: -1907 |Lam: 0.0001\n",
      "EP: 202 |ep_r: -2329 |Lam: 0.0001\n",
      "EP: 203 |ep_r: -2210 |Lam: 0.0001\n",
      "EP: 204 |ep_r: -2323 |Lam: 0.0001\n",
      "EP: 205 |ep_r: -2080 |Lam: 0.0001\n",
      "EP: 206 |ep_r: -2275 |Lam: 0.0001\n",
      "EP: 207 |ep_r: -2274 |Lam: 0.0001\n",
      "EP: 208 |ep_r: -1978 |Lam: 0.0001\n",
      "EP: 209 |ep_r: -2233 |Lam: 0.0001\n",
      "EP: 210 |ep_r: -2158 |Lam: 0.0001\n",
      "EP: 211 |ep_r: -2184 |Lam: 0.0001\n",
      "EP: 212 |ep_r: -2171 |Lam: 0.0001\n",
      "EP: 213 |ep_r: -2208 |Lam: 0.0001\n",
      "EP: 214 |ep_r: -1976 |Lam: 0.0001\n",
      "EP: 215 |ep_r: -1631 |Lam: 0.0004\n",
      "EP: 216 |ep_r: -2035 |Lam: 0.0001\n",
      "EP: 217 |ep_r: -1883 |Lam: 0.0001\n",
      "EP: 218 |ep_r: -1884 |Lam: 0.0001\n",
      "EP: 219 |ep_r: -2041 |Lam: 0.0001\n",
      "EP: 220 |ep_r: -2050 |Lam: 0.0001\n",
      "EP: 221 |ep_r: -1503 |Lam: 0.0001\n",
      "EP: 222 |ep_r: -1927 |Lam: 0.0001\n",
      "EP: 223 |ep_r: -2056 |Lam: 0.0001\n",
      "EP: 224 |ep_r: -1925 |Lam: 0.0004\n",
      "EP: 225 |ep_r: -1864 |Lam: 0.0008\n",
      "EP: 226 |ep_r: -1684 |Lam: 0.0001\n",
      "EP: 227 |ep_r: -1855 |Lam: 0.0001\n",
      "EP: 228 |ep_r: -1154 |Lam: 0.0001\n",
      "EP: 229 |ep_r: -1743 |Lam: 0.0002\n",
      "EP: 230 |ep_r: -1759 |Lam: 0.0001\n",
      "EP: 231 |ep_r: -779 |Lam: 0.0001\n",
      "EP: 232 |ep_r: -1564 |Lam: 0.0001\n",
      "EP: 233 |ep_r: -1846 |Lam: 0.0001\n",
      "EP: 234 |ep_r: -1426 |Lam: 0.0001\n",
      "EP: 235 |ep_r: -1743 |Lam: 0.0001\n",
      "EP: 236 |ep_r: -712 |Lam: 0.0001\n",
      "EP: 237 |ep_r: -958 |Lam: 0.0001\n",
      "EP: 238 |ep_r: -1204 |Lam: 0.0001\n",
      "EP: 239 |ep_r: -2016 |Lam: 0.0001\n",
      "EP: 240 |ep_r: -779 |Lam: 0.0001\n",
      "EP: 241 |ep_r: -2047 |Lam: 0.0001\n",
      "EP: 242 |ep_r: -2312 |Lam: 0.0001\n",
      "EP: 243 |ep_r: -1269 |Lam: 0.0001\n",
      "EP: 244 |ep_r: -937 |Lam: 0.0001\n"
     ]
    },
    {
     "name": "stdout",
     "output_type": "stream",
     "text": [
      "EP: 245 |ep_r: -1053 |Lam: 0.0001\n",
      "EP: 246 |ep_r: -923 |Lam: 0.0001\n",
      "EP: 247 |ep_r: -647 |Lam: 0.0001\n",
      "EP: 248 |ep_r: -645 |Lam: 0.0001\n",
      "EP: 249 |ep_r: -856 |Lam: 0.0001\n",
      "EP: 250 |ep_r: -649 |Lam: 0.0001\n",
      "EP: 251 |ep_r: -894 |Lam: 0.0001\n",
      "EP: 252 |ep_r: -2019 |Lam: 0.0001\n",
      "EP: 253 |ep_r: -1748 |Lam: 0.0001\n",
      "EP: 254 |ep_r: -916 |Lam: 0.0001\n",
      "EP: 255 |ep_r: -648 |Lam: 0.0001\n",
      "EP: 256 |ep_r: -2317 |Lam: 0.0001\n",
      "EP: 257 |ep_r: -900 |Lam: 0.0001\n",
      "EP: 258 |ep_r: -651 |Lam: 0.0001\n",
      "EP: 259 |ep_r: -1384 |Lam: 0.0001\n",
      "EP: 260 |ep_r: -1080 |Lam: 0.0008\n",
      "EP: 261 |ep_r: -790 |Lam: 0.0001\n",
      "EP: 262 |ep_r: -542 |Lam: 0.0001\n",
      "EP: 263 |ep_r: -717 |Lam: 0.0001\n",
      "EP: 264 |ep_r: -522 |Lam: 0.0001\n",
      "EP: 265 |ep_r: -1025 |Lam: 0.0001\n",
      "EP: 266 |ep_r: -1244 |Lam: 0.0001\n",
      "EP: 267 |ep_r: -1327 |Lam: 0.0001\n",
      "EP: 268 |ep_r: -513 |Lam: 0.0001\n",
      "EP: 269 |ep_r: -2319 |Lam: 0.0001\n",
      "EP: 270 |ep_r: -264 |Lam: 0.0001\n"
     ]
    },
    {
     "data": {
      "image/png": "[encoded data removed]",
      "text/plain": [
       "<Figure size 432x288 with 1 Axes>"
      ]
     },
     "metadata": {
      "needs_background": "light"
     },
     "output_type": "display_data"
    }
   ],
   "source": [
    "for ep in range(EP_MAX):\n",
    "    s = env.reset()\n",
    "    buffer_s, buffer_a, buffer_r = [],[],[]\n",
    "    ep_r = 0\n",
    "    \n",
    "    for t in range(EP_LEN):\n",
    "        env.render()\n",
    "        a = ppo.choose_action(s)\n",
    "        s_, r, done, info = env.step(a)\n",
    "        buffer_s.append(s)\n",
    "        buffer_a.append(a)\n",
    "        buffer_r.append((r+8)/8)\n",
    "        s = s_\n",
    "        ep_r += r\n",
    "        \n",
    "        if (t+1)%BATCH==0 or t==EP_LEN-1:\n",
    "            v_s_ = ppo.get_v(s_)\n",
    "            discounted_r = []\n",
    "            for r in buffer_r[::-1]:\n",
    "                v_s_ = r + GAMMA * v_s_\n",
    "                discounted_r.append(v_s_)\n",
    "            discounted_r.reverse()\n",
    "            \n",
    "            bs, ba, br = np.vstack(buffer_s), np.vstack(buffer_a), np.expand_dims(np.array(discounted_r), axis=1)\n",
    "            \n",
    "            #清空三个buffer\n",
    "            buffer_s, buffer_a, buffer_r = [], [], []\n",
    "            \n",
    "            #学习\n",
    "            ppo.learn(bs, ba, br)\n",
    "            \n",
    "    # 用来显示奖励值\n",
    "    if ep == 0: all_ep_r.append(ep_r)\n",
    "    else: all_ep_r.append(all_ep_r[-1]*0.9 + ep_r*0.1)\n",
    "    \n",
    "    print('EP: %i'%ep,\n",
    "          '|ep_r: %i'%ep_r,\n",
    "          (\"|Lam: %.4f\" % METHOD['lam']) if METHOD['name'] == 'kl_pen' else '',\n",
    "          )\n",
    "    \n",
    "    if ep_r > -300:\n",
    "        break\n",
    "# 画图\n",
    "plt.plot(np.arange(len(all_ep_r)), all_ep_r)\n",
    "plt.xlabel('Episode');plt.ylabel('Moving averaged episode reward');plt.show()\n",
    "ppo.actor_new.save_weights('pp01_actor_weights.h5')\n",
    "            "
   ]
  },
  {
   "cell_type": "code",
   "execution_count": null,
   "metadata": {},
   "outputs": [],
   "source": []
  },
  {
   "cell_type": "markdown",
   "metadata": {},
   "source": [
    "# 测试网络"
   ]
  },
  {
   "cell_type": "code",
   "execution_count": 8,
   "metadata": {},
   "outputs": [],
   "source": [
    "ppo_test = PPO()"
   ]
  },
  {
   "cell_type": "code",
   "execution_count": 9,
   "metadata": {},
   "outputs": [],
   "source": [
    "ppo_test.actor_new.load_weights('pp01_actor_weights.h5')"
   ]
  },
  {
   "cell_type": "code",
   "execution_count": 10,
   "metadata": {},
   "outputs": [
    {
     "ename": "KeyboardInterrupt",
     "evalue": "",
     "output_type": "error",
     "traceback": [
      "\u001b[1;31m---------------------------------------------------------------------------\u001b[0m",
      "\u001b[1;31mKeyboardInterrupt\u001b[0m                         Traceback (most recent call last)",
      "\u001b[1;32m<ipython-input-10-5ba1fa0cd23d>\u001b[0m in \u001b[0;36m<module>\u001b[1;34m\u001b[0m\n\u001b[0;32m      4\u001b[0m     \u001b[1;32mfor\u001b[0m \u001b[0mt\u001b[0m \u001b[1;32min\u001b[0m \u001b[0mrange\u001b[0m\u001b[1;33m(\u001b[0m\u001b[0mEP_LEN\u001b[0m\u001b[1;33m)\u001b[0m\u001b[1;33m:\u001b[0m\u001b[1;33m\u001b[0m\u001b[1;33m\u001b[0m\u001b[0m\n\u001b[0;32m      5\u001b[0m         \u001b[0menv\u001b[0m\u001b[1;33m.\u001b[0m\u001b[0mrender\u001b[0m\u001b[1;33m(\u001b[0m\u001b[1;33m)\u001b[0m\u001b[1;33m\u001b[0m\u001b[1;33m\u001b[0m\u001b[0m\n\u001b[1;32m----> 6\u001b[1;33m         \u001b[0ma\u001b[0m \u001b[1;33m=\u001b[0m \u001b[0mppo_test\u001b[0m\u001b[1;33m.\u001b[0m\u001b[0mchoose_action\u001b[0m\u001b[1;33m(\u001b[0m\u001b[0ms\u001b[0m\u001b[1;33m)\u001b[0m\u001b[1;33m\u001b[0m\u001b[1;33m\u001b[0m\u001b[0m\n\u001b[0m\u001b[0;32m      7\u001b[0m         \u001b[0ms_\u001b[0m\u001b[1;33m,\u001b[0m \u001b[0mr\u001b[0m\u001b[1;33m,\u001b[0m \u001b[0mdone\u001b[0m\u001b[1;33m,\u001b[0m \u001b[0minfo\u001b[0m \u001b[1;33m=\u001b[0m \u001b[0menv\u001b[0m\u001b[1;33m.\u001b[0m\u001b[0mstep\u001b[0m\u001b[1;33m(\u001b[0m\u001b[0ma\u001b[0m\u001b[1;33m)\u001b[0m\u001b[1;33m\u001b[0m\u001b[1;33m\u001b[0m\u001b[0m\n\u001b[0;32m      8\u001b[0m         \u001b[0ms\u001b[0m \u001b[1;33m=\u001b[0m \u001b[0ms_\u001b[0m\u001b[1;33m\u001b[0m\u001b[1;33m\u001b[0m\u001b[0m\n",
      "\u001b[1;32m<ipython-input-4-4edf6733b490>\u001b[0m in \u001b[0;36mchoose_action\u001b[1;34m(self, s)\u001b[0m\n\u001b[0;32m    126\u001b[0m         \u001b[1;31m#创建一个正态分布\u001b[0m\u001b[1;33m\u001b[0m\u001b[1;33m\u001b[0m\u001b[1;33m\u001b[0m\u001b[0m\n\u001b[0;32m    127\u001b[0m         \u001b[0mnormal_dist\u001b[0m \u001b[1;33m=\u001b[0m \u001b[0mtfp\u001b[0m\u001b[1;33m.\u001b[0m\u001b[0mdistributions\u001b[0m\u001b[1;33m.\u001b[0m\u001b[0mNormal\u001b[0m\u001b[1;33m(\u001b[0m\u001b[0mmu\u001b[0m\u001b[1;33m,\u001b[0m \u001b[0msigma\u001b[0m\u001b[1;33m)\u001b[0m\u001b[1;33m\u001b[0m\u001b[1;33m\u001b[0m\u001b[0m\n\u001b[1;32m--> 128\u001b[1;33m         \u001b[0mact_choosed\u001b[0m \u001b[1;33m=\u001b[0m \u001b[0mtf\u001b[0m\u001b[1;33m.\u001b[0m\u001b[0mclip_by_value\u001b[0m\u001b[1;33m(\u001b[0m\u001b[0mnormal_dist\u001b[0m\u001b[1;33m.\u001b[0m\u001b[0msample\u001b[0m\u001b[1;33m(\u001b[0m\u001b[1;36m1\u001b[0m\u001b[1;33m)\u001b[0m\u001b[1;33m[\u001b[0m\u001b[1;36m0\u001b[0m\u001b[1;33m]\u001b[0m\u001b[1;33m[\u001b[0m\u001b[1;36m0\u001b[0m\u001b[1;33m]\u001b[0m\u001b[1;33m,\u001b[0m \u001b[1;33m-\u001b[0m\u001b[1;36m2\u001b[0m\u001b[1;33m,\u001b[0m\u001b[1;36m2\u001b[0m\u001b[1;33m)\u001b[0m\u001b[1;33m\u001b[0m\u001b[1;33m\u001b[0m\u001b[0m\n\u001b[0m\u001b[0;32m    129\u001b[0m         \u001b[0mact_choosed\u001b[0m \u001b[1;33m=\u001b[0m \u001b[0mact_choosed\u001b[0m\u001b[1;33m.\u001b[0m\u001b[0mnumpy\u001b[0m\u001b[1;33m(\u001b[0m\u001b[1;33m)\u001b[0m\u001b[1;33m\u001b[0m\u001b[1;33m\u001b[0m\u001b[0m\n\u001b[0;32m    130\u001b[0m         \u001b[1;32mreturn\u001b[0m \u001b[0mact_choosed\u001b[0m\u001b[1;33m\u001b[0m\u001b[1;33m\u001b[0m\u001b[0m\n",
      "\u001b[1;32m~\\AppData\\Roaming\\Python\\Python37\\site-packages\\tensorflow_probability\\python\\distributions\\distribution.py\u001b[0m in \u001b[0;36msample\u001b[1;34m(self, sample_shape, seed, name, **kwargs)\u001b[0m\n\u001b[0;32m    999\u001b[0m       \u001b[0msamples\u001b[0m\u001b[1;33m:\u001b[0m \u001b[0ma\u001b[0m\u001b[0;31m \u001b[0m\u001b[0;31m`\u001b[0m\u001b[0mTensor\u001b[0m\u001b[0;31m`\u001b[0m \u001b[1;32mwith\u001b[0m \u001b[0mprepended\u001b[0m \u001b[0mdimensions\u001b[0m\u001b[0;31m \u001b[0m\u001b[0;31m`\u001b[0m\u001b[0msample_shape\u001b[0m\u001b[0;31m`\u001b[0m\u001b[1;33m.\u001b[0m\u001b[1;33m\u001b[0m\u001b[1;33m\u001b[0m\u001b[0m\n\u001b[0;32m   1000\u001b[0m     \"\"\"\n\u001b[1;32m-> 1001\u001b[1;33m     \u001b[1;32mreturn\u001b[0m \u001b[0mself\u001b[0m\u001b[1;33m.\u001b[0m\u001b[0m_call_sample_n\u001b[0m\u001b[1;33m(\u001b[0m\u001b[0msample_shape\u001b[0m\u001b[1;33m,\u001b[0m \u001b[0mseed\u001b[0m\u001b[1;33m,\u001b[0m \u001b[0mname\u001b[0m\u001b[1;33m,\u001b[0m \u001b[1;33m**\u001b[0m\u001b[0mkwargs\u001b[0m\u001b[1;33m)\u001b[0m\u001b[1;33m\u001b[0m\u001b[1;33m\u001b[0m\u001b[0m\n\u001b[0m\u001b[0;32m   1002\u001b[0m \u001b[1;33m\u001b[0m\u001b[0m\n\u001b[0;32m   1003\u001b[0m   \u001b[1;32mdef\u001b[0m \u001b[0m_call_log_prob\u001b[0m\u001b[1;33m(\u001b[0m\u001b[0mself\u001b[0m\u001b[1;33m,\u001b[0m \u001b[0mvalue\u001b[0m\u001b[1;33m,\u001b[0m \u001b[0mname\u001b[0m\u001b[1;33m,\u001b[0m \u001b[1;33m**\u001b[0m\u001b[0mkwargs\u001b[0m\u001b[1;33m)\u001b[0m\u001b[1;33m:\u001b[0m\u001b[1;33m\u001b[0m\u001b[1;33m\u001b[0m\u001b[0m\n",
      "\u001b[1;32m~\\AppData\\Roaming\\Python\\Python37\\site-packages\\tensorflow_probability\\python\\distributions\\distribution.py\u001b[0m in \u001b[0;36m_call_sample_n\u001b[1;34m(self, sample_shape, seed, name, **kwargs)\u001b[0m\n\u001b[0;32m    977\u001b[0m           sample_shape, 'sample_shape')\n\u001b[0;32m    978\u001b[0m       samples = self._sample_n(\n\u001b[1;32m--> 979\u001b[1;33m           n, seed=seed() if callable(seed) else seed, **kwargs)\n\u001b[0m\u001b[0;32m    980\u001b[0m       \u001b[0mbatch_event_shape\u001b[0m \u001b[1;33m=\u001b[0m \u001b[0mps\u001b[0m\u001b[1;33m.\u001b[0m\u001b[0mshape\u001b[0m\u001b[1;33m(\u001b[0m\u001b[0msamples\u001b[0m\u001b[1;33m)\u001b[0m\u001b[1;33m[\u001b[0m\u001b[1;36m1\u001b[0m\u001b[1;33m:\u001b[0m\u001b[1;33m]\u001b[0m\u001b[1;33m\u001b[0m\u001b[1;33m\u001b[0m\u001b[0m\n\u001b[0;32m    981\u001b[0m       \u001b[0mfinal_shape\u001b[0m \u001b[1;33m=\u001b[0m \u001b[0mps\u001b[0m\u001b[1;33m.\u001b[0m\u001b[0mconcat\u001b[0m\u001b[1;33m(\u001b[0m\u001b[1;33m[\u001b[0m\u001b[0msample_shape\u001b[0m\u001b[1;33m,\u001b[0m \u001b[0mbatch_event_shape\u001b[0m\u001b[1;33m]\u001b[0m\u001b[1;33m,\u001b[0m \u001b[1;36m0\u001b[0m\u001b[1;33m)\u001b[0m\u001b[1;33m\u001b[0m\u001b[1;33m\u001b[0m\u001b[0m\n",
      "\u001b[1;32m~\\AppData\\Roaming\\Python\\Python37\\site-packages\\tensorflow_probability\\python\\distributions\\normal.py\u001b[0m in \u001b[0;36m_sample_n\u001b[1;34m(self, n, seed)\u001b[0m\n\u001b[0;32m    191\u001b[0m     sampled = samplers.normal(\n\u001b[0;32m    192\u001b[0m         shape=shape, mean=0., stddev=1., dtype=self.dtype, seed=seed)\n\u001b[1;32m--> 193\u001b[1;33m     \u001b[1;32mreturn\u001b[0m \u001b[0msampled\u001b[0m \u001b[1;33m*\u001b[0m \u001b[0mscale\u001b[0m \u001b[1;33m+\u001b[0m \u001b[0mloc\u001b[0m\u001b[1;33m\u001b[0m\u001b[1;33m\u001b[0m\u001b[0m\n\u001b[0m\u001b[0;32m    194\u001b[0m \u001b[1;33m\u001b[0m\u001b[0m\n\u001b[0;32m    195\u001b[0m   \u001b[1;32mdef\u001b[0m \u001b[0m_log_prob\u001b[0m\u001b[1;33m(\u001b[0m\u001b[0mself\u001b[0m\u001b[1;33m,\u001b[0m \u001b[0mx\u001b[0m\u001b[1;33m)\u001b[0m\u001b[1;33m:\u001b[0m\u001b[1;33m\u001b[0m\u001b[1;33m\u001b[0m\u001b[0m\n",
      "\u001b[1;32mD:\\conda\\envs\\tfgpu\\lib\\site-packages\\tensorflow\\python\\ops\\math_ops.py\u001b[0m in \u001b[0;36mbinary_op_wrapper\u001b[1;34m(x, y)\u001b[0m\n\u001b[0;32m   1123\u001b[0m     \u001b[1;32mwith\u001b[0m \u001b[0mops\u001b[0m\u001b[1;33m.\u001b[0m\u001b[0mname_scope\u001b[0m\u001b[1;33m(\u001b[0m\u001b[1;32mNone\u001b[0m\u001b[1;33m,\u001b[0m \u001b[0mop_name\u001b[0m\u001b[1;33m,\u001b[0m \u001b[1;33m[\u001b[0m\u001b[0mx\u001b[0m\u001b[1;33m,\u001b[0m \u001b[0my\u001b[0m\u001b[1;33m]\u001b[0m\u001b[1;33m)\u001b[0m \u001b[1;32mas\u001b[0m \u001b[0mname\u001b[0m\u001b[1;33m:\u001b[0m\u001b[1;33m\u001b[0m\u001b[1;33m\u001b[0m\u001b[0m\n\u001b[0;32m   1124\u001b[0m       \u001b[1;32mtry\u001b[0m\u001b[1;33m:\u001b[0m\u001b[1;33m\u001b[0m\u001b[1;33m\u001b[0m\u001b[0m\n\u001b[1;32m-> 1125\u001b[1;33m         \u001b[1;32mreturn\u001b[0m \u001b[0mfunc\u001b[0m\u001b[1;33m(\u001b[0m\u001b[0mx\u001b[0m\u001b[1;33m,\u001b[0m \u001b[0my\u001b[0m\u001b[1;33m,\u001b[0m \u001b[0mname\u001b[0m\u001b[1;33m=\u001b[0m\u001b[0mname\u001b[0m\u001b[1;33m)\u001b[0m\u001b[1;33m\u001b[0m\u001b[1;33m\u001b[0m\u001b[0m\n\u001b[0m\u001b[0;32m   1126\u001b[0m       \u001b[1;32mexcept\u001b[0m \u001b[1;33m(\u001b[0m\u001b[0mTypeError\u001b[0m\u001b[1;33m,\u001b[0m \u001b[0mValueError\u001b[0m\u001b[1;33m)\u001b[0m \u001b[1;32mas\u001b[0m \u001b[0me\u001b[0m\u001b[1;33m:\u001b[0m\u001b[1;33m\u001b[0m\u001b[1;33m\u001b[0m\u001b[0m\n\u001b[0;32m   1127\u001b[0m         \u001b[1;31m# Even if dispatching the op failed, the RHS may be a tensor aware\u001b[0m\u001b[1;33m\u001b[0m\u001b[1;33m\u001b[0m\u001b[1;33m\u001b[0m\u001b[0m\n",
      "\u001b[1;32mD:\\conda\\envs\\tfgpu\\lib\\site-packages\\tensorflow\\python\\ops\\math_ops.py\u001b[0m in \u001b[0;36m_mul_dispatch\u001b[1;34m(x, y, name)\u001b[0m\n\u001b[0;32m   1455\u001b[0m     \u001b[1;32mreturn\u001b[0m \u001b[0msparse_tensor\u001b[0m\u001b[1;33m.\u001b[0m\u001b[0mSparseTensor\u001b[0m\u001b[1;33m(\u001b[0m\u001b[0my\u001b[0m\u001b[1;33m.\u001b[0m\u001b[0mindices\u001b[0m\u001b[1;33m,\u001b[0m \u001b[0mnew_vals\u001b[0m\u001b[1;33m,\u001b[0m \u001b[0my\u001b[0m\u001b[1;33m.\u001b[0m\u001b[0mdense_shape\u001b[0m\u001b[1;33m)\u001b[0m\u001b[1;33m\u001b[0m\u001b[1;33m\u001b[0m\u001b[0m\n\u001b[0;32m   1456\u001b[0m   \u001b[1;32melse\u001b[0m\u001b[1;33m:\u001b[0m\u001b[1;33m\u001b[0m\u001b[1;33m\u001b[0m\u001b[0m\n\u001b[1;32m-> 1457\u001b[1;33m     \u001b[1;32mreturn\u001b[0m \u001b[0mmultiply\u001b[0m\u001b[1;33m(\u001b[0m\u001b[0mx\u001b[0m\u001b[1;33m,\u001b[0m \u001b[0my\u001b[0m\u001b[1;33m,\u001b[0m \u001b[0mname\u001b[0m\u001b[1;33m=\u001b[0m\u001b[0mname\u001b[0m\u001b[1;33m)\u001b[0m\u001b[1;33m\u001b[0m\u001b[1;33m\u001b[0m\u001b[0m\n\u001b[0m\u001b[0;32m   1458\u001b[0m \u001b[1;33m\u001b[0m\u001b[0m\n\u001b[0;32m   1459\u001b[0m \u001b[1;33m\u001b[0m\u001b[0m\n",
      "\u001b[1;32mD:\\conda\\envs\\tfgpu\\lib\\site-packages\\tensorflow\\python\\util\\dispatch.py\u001b[0m in \u001b[0;36mwrapper\u001b[1;34m(*args, **kwargs)\u001b[0m\n\u001b[0;32m    199\u001b[0m     \u001b[1;34m\"\"\"Call target, and fall back on dispatchers if there is a TypeError.\"\"\"\u001b[0m\u001b[1;33m\u001b[0m\u001b[1;33m\u001b[0m\u001b[0m\n\u001b[0;32m    200\u001b[0m     \u001b[1;32mtry\u001b[0m\u001b[1;33m:\u001b[0m\u001b[1;33m\u001b[0m\u001b[1;33m\u001b[0m\u001b[0m\n\u001b[1;32m--> 201\u001b[1;33m       \u001b[1;32mreturn\u001b[0m \u001b[0mtarget\u001b[0m\u001b[1;33m(\u001b[0m\u001b[1;33m*\u001b[0m\u001b[0margs\u001b[0m\u001b[1;33m,\u001b[0m \u001b[1;33m**\u001b[0m\u001b[0mkwargs\u001b[0m\u001b[1;33m)\u001b[0m\u001b[1;33m\u001b[0m\u001b[1;33m\u001b[0m\u001b[0m\n\u001b[0m\u001b[0;32m    202\u001b[0m     \u001b[1;32mexcept\u001b[0m \u001b[1;33m(\u001b[0m\u001b[0mTypeError\u001b[0m\u001b[1;33m,\u001b[0m \u001b[0mValueError\u001b[0m\u001b[1;33m)\u001b[0m\u001b[1;33m:\u001b[0m\u001b[1;33m\u001b[0m\u001b[1;33m\u001b[0m\u001b[0m\n\u001b[0;32m    203\u001b[0m       \u001b[1;31m# Note: convert_to_eager_tensor currently raises a ValueError, not a\u001b[0m\u001b[1;33m\u001b[0m\u001b[1;33m\u001b[0m\u001b[1;33m\u001b[0m\u001b[0m\n",
      "\u001b[1;32mD:\\conda\\envs\\tfgpu\\lib\\site-packages\\tensorflow\\python\\ops\\math_ops.py\u001b[0m in \u001b[0;36mmultiply\u001b[1;34m(x, y, name)\u001b[0m\n\u001b[0;32m    507\u001b[0m   \"\"\"\n\u001b[0;32m    508\u001b[0m \u001b[1;33m\u001b[0m\u001b[0m\n\u001b[1;32m--> 509\u001b[1;33m   \u001b[1;32mreturn\u001b[0m \u001b[0mgen_math_ops\u001b[0m\u001b[1;33m.\u001b[0m\u001b[0mmul\u001b[0m\u001b[1;33m(\u001b[0m\u001b[0mx\u001b[0m\u001b[1;33m,\u001b[0m \u001b[0my\u001b[0m\u001b[1;33m,\u001b[0m \u001b[0mname\u001b[0m\u001b[1;33m)\u001b[0m\u001b[1;33m\u001b[0m\u001b[1;33m\u001b[0m\u001b[0m\n\u001b[0m\u001b[0;32m    510\u001b[0m \u001b[1;33m\u001b[0m\u001b[0m\n\u001b[0;32m    511\u001b[0m \u001b[1;33m\u001b[0m\u001b[0m\n",
      "\u001b[1;32mD:\\conda\\envs\\tfgpu\\lib\\site-packages\\tensorflow\\python\\ops\\gen_math_ops.py\u001b[0m in \u001b[0;36mmul\u001b[1;34m(x, y, name)\u001b[0m\n\u001b[0;32m   6161\u001b[0m       _result = pywrap_tfe.TFE_Py_FastPathExecute(\n\u001b[0;32m   6162\u001b[0m         \u001b[0m_ctx\u001b[0m\u001b[1;33m.\u001b[0m\u001b[0m_context_handle\u001b[0m\u001b[1;33m,\u001b[0m \u001b[0mtld\u001b[0m\u001b[1;33m.\u001b[0m\u001b[0mdevice_name\u001b[0m\u001b[1;33m,\u001b[0m \u001b[1;34m\"Mul\"\u001b[0m\u001b[1;33m,\u001b[0m \u001b[0mname\u001b[0m\u001b[1;33m,\u001b[0m \u001b[0mtld\u001b[0m\u001b[1;33m.\u001b[0m\u001b[0mop_callbacks\u001b[0m\u001b[1;33m,\u001b[0m\u001b[1;33m\u001b[0m\u001b[1;33m\u001b[0m\u001b[0m\n\u001b[1;32m-> 6163\u001b[1;33m         x, y)\n\u001b[0m\u001b[0;32m   6164\u001b[0m       \u001b[1;32mreturn\u001b[0m \u001b[0m_result\u001b[0m\u001b[1;33m\u001b[0m\u001b[1;33m\u001b[0m\u001b[0m\n\u001b[0;32m   6165\u001b[0m     \u001b[1;32mexcept\u001b[0m \u001b[0m_core\u001b[0m\u001b[1;33m.\u001b[0m\u001b[0m_NotOkStatusException\u001b[0m \u001b[1;32mas\u001b[0m \u001b[0me\u001b[0m\u001b[1;33m:\u001b[0m\u001b[1;33m\u001b[0m\u001b[1;33m\u001b[0m\u001b[0m\n",
      "\u001b[1;31mKeyboardInterrupt\u001b[0m: "
     ]
    }
   ],
   "source": [
    "for ep in range(EP_MAX):\n",
    "    s = env.reset()\n",
    "    \n",
    "    for t in range(EP_LEN):\n",
    "        env.render()\n",
    "        a = ppo_test.choose_action(s)\n",
    "        s_, r, done, info = env.step(a)\n",
    "        s = s_\n",
    "\n",
    "            "
   ]
  },
  {
   "cell_type": "code",
   "execution_count": null,
   "metadata": {},
   "outputs": [],
   "source": []
  },
  {
   "cell_type": "markdown",
   "metadata": {},
   "source": [
    "# 如何提取出全部的权重并且对权重进行运算，再赋值\n",
    "# 也就是软更新"
   ]
  },
  {
   "cell_type": "code",
   "execution_count": null,
   "metadata": {},
   "outputs": [],
   "source": [
    "i = tf.keras.layers.Input(shape=(1,))\n",
    "x = tf.keras.layers.Dense(5)(i)\n",
    "x = tf.keras.layers.Dense(1)(x)\n",
    "\n",
    "model = tf.keras.Model(inputs=i, outputs=x)"
   ]
  },
  {
   "cell_type": "code",
   "execution_count": null,
   "metadata": {},
   "outputs": [],
   "source": [
    "w = model.get_weights()\n",
    "print(w)"
   ]
  },
  {
   "cell_type": "code",
   "execution_count": null,
   "metadata": {},
   "outputs": [],
   "source": [
    "w_new = [w1*0.1 for w1 in w]\n",
    "print(w_new)"
   ]
  },
  {
   "cell_type": "code",
   "execution_count": null,
   "metadata": {},
   "outputs": [],
   "source": [
    "[w1+w2 for w1,w2 in zip(w,w_new)]"
   ]
  },
  {
   "cell_type": "code",
   "execution_count": null,
   "metadata": {},
   "outputs": [],
   "source": []
  },
  {
   "cell_type": "code",
   "execution_count": null,
   "metadata": {},
   "outputs": [],
   "source": []
  },
  {
   "cell_type": "markdown",
   "metadata": {},
   "source": [
    "# 在建立网络的时候直接产生pi\n"
   ]
  },
  {
   "cell_type": "code",
   "execution_count": 3,
   "metadata": {},
   "outputs": [],
   "source": [
    "distnorm = tfp.distributions.Normal(0,1)\n",
    "dsitnorm2 = tfp.distributions.Normal([0,1],[2,3])"
   ]
  },
  {
   "cell_type": "code",
   "execution_count": 4,
   "metadata": {},
   "outputs": [
    {
     "name": "stdout",
     "output_type": "stream",
     "text": [
      "tfp.distributions.Normal(\"Normal\", batch_shape=[2], event_shape=[], dtype=float32)\n",
      "tfp.distributions.Normal(\"Normal\", batch_shape=[], event_shape=[], dtype=float32)\n"
     ]
    }
   ],
   "source": [
    "print(dsitnorm2)\n",
    "print(distnorm)"
   ]
  },
  {
   "cell_type": "code",
   "execution_count": 45,
   "metadata": {},
   "outputs": [
    {
     "name": "stdout",
     "output_type": "stream",
     "text": [
      "[-0.16165093]\n"
     ]
    }
   ],
   "source": [
    "s = env.reset()\n",
    "buffer_s, buffer_a, buffer_r = [],[],[]\n",
    "a = ppo.choose_action(s)\n",
    "print(a)\n",
    "for t in range(8):\n",
    "    ep_r = 0\n",
    "    a = ppo.choose_action(s)\n",
    "    s_, r, done, info = env.step(a)\n",
    "    buffer_s.append(s)\n",
    "    buffer_a.append(a)\n",
    "    buffer_r.append((r+8)/8)\n",
    "    s = s_\n",
    "    ep_r += r\n",
    "bs, ba, br = np.vstack(buffer_s), np.vstack(buffer_a), np.vstack(buffer_r)\n"
   ]
  },
  {
   "cell_type": "code",
   "execution_count": 46,
   "metadata": {},
   "outputs": [
    {
     "data": {
      "text/plain": [
       "array([[ 0.05042878,  0.99872766,  0.66738899],\n",
       "       [-0.01850657,  0.99982874,  1.37915609],\n",
       "       [-0.12991862,  0.99152466,  2.23558554],\n",
       "       [-0.2813611 ,  0.95960196,  3.09850634],\n",
       "       [-0.45734555,  0.88928907,  3.79591537],\n",
       "       [-0.6434293 ,  0.76550554,  4.47923348],\n",
       "       [-0.81341724,  0.58168066,  5.02066649],\n",
       "       [-0.9401022 ,  0.34089274,  5.4585398 ]])"
      ]
     },
     "execution_count": 46,
     "metadata": {},
     "output_type": "execute_result"
    }
   ],
   "source": [
    "bs"
   ]
  },
  {
   "cell_type": "code",
   "execution_count": 47,
   "metadata": {},
   "outputs": [
    {
     "data": {
      "text/plain": [
       "array([[-0.24852428],\n",
       "       [ 0.7103859 ],\n",
       "       [ 0.79518205],\n",
       "       [-0.14861628],\n",
       "       [ 0.10900874],\n",
       "       [-0.21797436],\n",
       "       [ 0.01075213],\n",
       "       [-0.09659199]], dtype=float32)"
      ]
     },
     "execution_count": 47,
     "metadata": {},
     "output_type": "execute_result"
    }
   ],
   "source": [
    "ba"
   ]
  },
  {
   "cell_type": "code",
   "execution_count": 48,
   "metadata": {},
   "outputs": [
    {
     "data": {
      "text/plain": [
       "array([[ 0.70549313],\n",
       "       [ 0.66042514],\n",
       "       [ 0.57573741],\n",
       "       [ 0.44939201],\n",
       "       [ 0.29672194],\n",
       "       [ 0.1052202 ],\n",
       "       [-0.10939231],\n",
       "       [-0.34806021]])"
      ]
     },
     "execution_count": 48,
     "metadata": {},
     "output_type": "execute_result"
    }
   ],
   "source": [
    "br"
   ]
  },
  {
   "cell_type": "code",
   "execution_count": 49,
   "metadata": {},
   "outputs": [
    {
     "name": "stdout",
     "output_type": "stream",
     "text": [
      "tf.Tensor(\n",
      "[[ 0.05236873]\n",
      " [ 0.02980565]\n",
      " [ 0.00520472]\n",
      " [-0.03456562]\n",
      " [-0.05436929]\n",
      " [-0.06107465]\n",
      " [-0.06565797]\n",
      " [-0.079589  ]], shape=(8, 1), dtype=float32)\n",
      "tf.Tensor(\n",
      "[[0.5669595 ]\n",
      " [0.50955284]\n",
      " [0.45010132]\n",
      " [0.40226656]\n",
      " [0.37392932]\n",
      " [0.3539104 ]\n",
      " [0.34493133]\n",
      " [0.3466064 ]], shape=(8, 1), dtype=float32)\n"
     ]
    }
   ],
   "source": [
    "[mu, sigma] = ppo.actor_new(bs)\n",
    "print(mu)\n",
    "print(sigma)"
   ]
  },
  {
   "cell_type": "code",
   "execution_count": 50,
   "metadata": {},
   "outputs": [
    {
     "name": "stdout",
     "output_type": "stream",
     "text": [
      "tfp.distributions.Normal(\"Normal\", batch_shape=[8, 1], event_shape=[], dtype=float32)\n"
     ]
    }
   ],
   "source": [
    "dist = tfp.distributions.Normal(mu,sigma)\n",
    "print(dist)"
   ]
  },
  {
   "cell_type": "code",
   "execution_count": 51,
   "metadata": {},
   "outputs": [
    {
     "data": {
      "text/plain": [
       "<tf.Tensor: shape=(8, 1), dtype=float32, numpy=\n",
       "array([[0.6112193 ],\n",
       "       [0.3208804 ],\n",
       "       [0.18997525],\n",
       "       [0.9526669 ],\n",
       "       [0.9697659 ],\n",
       "       [1.0217344 ],\n",
       "       [1.1285518 ],\n",
       "       [1.1496111 ]], dtype=float32)>"
      ]
     },
     "execution_count": 51,
     "metadata": {},
     "output_type": "execute_result"
    }
   ],
   "source": [
    "dist.prob(ba)"
   ]
  },
  {
   "cell_type": "code",
   "execution_count": 52,
   "metadata": {},
   "outputs": [],
   "source": [
    "s_in_choose = env.reset()\n",
    "s_in_choose = np.expand_dims(s_in_choose, axis=0)\n",
    "mu_choose,sigma_choose = ppo.actor_new(s_in_choose)\n"
   ]
  },
  {
   "cell_type": "code",
   "execution_count": 53,
   "metadata": {},
   "outputs": [
    {
     "name": "stdout",
     "output_type": "stream",
     "text": [
      "tfp.distributions.Normal(\"Normal\", batch_shape=[1, 1], event_shape=[], dtype=float32)\n"
     ]
    }
   ],
   "source": [
    "dist_choose = tfp.distributions.Normal(mu_choose, sigma_choose)\n",
    "print(dist_choose)"
   ]
  },
  {
   "cell_type": "code",
   "execution_count": 54,
   "metadata": {},
   "outputs": [],
   "source": [
    "a = dist_choose.sample(1)[0][0]"
   ]
  },
  {
   "cell_type": "code",
   "execution_count": 55,
   "metadata": {},
   "outputs": [
    {
     "data": {
      "text/plain": [
       "(array([ 0.61060979,  0.79193162, -0.06393755]),\n",
       " -0.8798268224680682,\n",
       " False,\n",
       " {})"
      ]
     },
     "execution_count": 55,
     "metadata": {},
     "output_type": "execute_result"
    }
   ],
   "source": [
    "env.step(a)"
   ]
  },
  {
   "cell_type": "code",
   "execution_count": null,
   "metadata": {},
   "outputs": [],
   "source": []
  }
 ],
 "metadata": {
  "kernelspec": {
   "display_name": "Python 3",
   "language": "python",
   "name": "python3"
  },
  "language_info": {
   "codemirror_mode": {
    "name": "ipython",
    "version": 3
   },
   "file_extension": ".py",
   "mimetype": "text/x-python",
   "name": "python",
   "nbconvert_exporter": "python",
   "pygments_lexer": "ipython3",
   "version": "3.7.9"
  }
 },
 "nbformat": 4,
 "nbformat_minor": 4
}
