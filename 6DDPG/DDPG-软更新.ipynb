{
 "cells": [
  {
   "cell_type": "markdown",
   "metadata": {},
   "source": [
    "# 更新参数的时候，完全不必要一层一层更新，直接对整个模型getweights和setweights即可！\n",
    "# 对权重进行计算操作的时候，需要用列表推导式，因为权重是按照列表的格式存储的，不能直接相乘，必须循环出来进行相乘相加处理\n",
    "# 软更新比较稳定，不需要设置更新替换次数！！！"
   ]
  },
  {
   "cell_type": "code",
   "execution_count": 1,
   "metadata": {},
   "outputs": [],
   "source": [
    "import tensorflow as tf\n",
    "import numpy as np\n",
    "import gym\n",
    "import time\n",
    "gpus = tf.config.experimental.list_physical_devices(device_type='GPU')\n",
    "tf.config.experimental.set_memory_growth(gpus[0], True)"
   ]
  },
  {
   "cell_type": "code",
   "execution_count": 2,
   "metadata": {},
   "outputs": [],
   "source": [
    "# 超参数\n",
    "MAX_EPISODES = 200\n",
    "MAX_EP_STEPS = 200\n",
    "LR_A = 0.001    # learning rate for actor\n",
    "LR_C = 0.002    # learning rate for critic\n",
    "GAMMA = 0.9     # reward discount\n",
    "TAU = 0.01      # soft replacement\n",
    "MEMORY_CAPACITY = 10000\n",
    "BATCH_SIZE = 32\n",
    "\n",
    "#软更新参数Tau\n",
    "TAU = 0.01\n",
    "\n",
    "RENDER = False\n",
    "ENV_NAME = 'Pendulum-v0'"
   ]
  },
  {
   "cell_type": "code",
   "execution_count": 3,
   "metadata": {},
   "outputs": [],
   "source": [
    "class DDPG():\n",
    "    def __init__(self, a_dim, s_dim, a_bound):\n",
    "        self.memory = np.zeros((MEMORY_CAPACITY, s_dim*2 + a_dim + 1), dtype=np.float32) # 经验池和DQN一样\n",
    "        self.pointer = 0\n",
    "        \n",
    "        self.a_dim = a_dim\n",
    "        self.s_dim = s_dim\n",
    "        self.a_bound = a_bound\n",
    "        \n",
    "        self._build_actor()    # 两个actor网络\n",
    "        self._build_critic()   # 两个critic网络\n",
    "        \n",
    "    def _build_actor(self):\n",
    "        '''搭建actor'''\n",
    "        #-------------------估计网络evaluate------------------------------------\n",
    "        s = tf.keras.layers.Input(shape=(self.s_dim,), name='s')\n",
    "        x = tf.keras.layers.Dense(30, activation='relu', name='l1')(s)\n",
    "        x = tf.keras.layers.Dense(self.a_dim, activation='tanh', name='a')(x)\n",
    "        x = tf.keras.layers.Multiply(name='scaled_a')([x, self.a_bound])\n",
    "        self.actor_evalu = tf.keras.Model(inputs=s, outputs=x)\n",
    "        \n",
    "        self.a_optimizer = tf.keras.optimizers.Adam(learning_rate=LR_A)\n",
    "        \n",
    "        #-------------------目标网络target---------------------------------------\n",
    "        s_ = tf.keras.layers.Input(shape=(self.s_dim,), name='s_')\n",
    "        x = tf.keras.layers.Dense(30, activation='relu', name='l1')(s_)\n",
    "        x = tf.keras.layers.Dense(self.a_dim, activation='tanh', name='a')(x)\n",
    "        x = tf.keras.layers.Multiply(name='scaled_a')([x, self.a_bound])     #self.a_bound是一个常量\n",
    "        self.actor_target = tf.keras.Model(inputs=s_, outputs=x)   \n",
    "        \n",
    "    def _build_critic(self):\n",
    "        '''搭建critic'''\n",
    "        #------------------估计网络evaluate--------------------------------------\n",
    "        s = tf.keras.layers.Input(shape=(self.s_dim,), name='s')\n",
    "        a = tf.keras.layers.Input(shape=(self.a_dim,), name='a')\n",
    "        x1 = tf.keras.layers.Dense(30, name='x1')(s)             #本身带有bias，不需要加了\n",
    "        x2 = tf.keras.layers.Dense(30, name='x2')(a)\n",
    "        net = tf.keras.layers.Add(name='net')([x1,x2])           #没加relu！\n",
    "        net = tf.keras.layers.ReLU()(net)                        #加上relu试试\n",
    "        out = tf.keras.layers.Dense(1, name='out')(net)\n",
    "        self.critic_evalu = tf.keras.Model(inputs=[s, a], outputs=out)  #两个输入\n",
    "        \n",
    "        self.c_optimizer = tf.keras.optimizers.Adam(learning_rate=LR_C)\n",
    "        \n",
    "        #------------------目标网络target-------------------------------------------\n",
    "        s_ = tf.keras.layers.Input(shape=(self.s_dim,), name='s_')\n",
    "        a_ = tf.keras.layers.Input(shape=(self.a_dim,), name='a_')\n",
    "        x1 = tf.keras.layers.Dense(30, name='x1')(s_)             #本身带有bias，不需要加了\n",
    "        x2 = tf.keras.layers.Dense(30, name='x2')(a_)\n",
    "        net = tf.keras.layers.Add(name='net')([x1,x2])\n",
    "        net = tf.keras.layers.ReLU()(net)\n",
    "        out = tf.keras.layers.Dense(1, name='out')(net)\n",
    "        self.critic_target = tf.keras.Model(inputs=[s_, a_], outputs=out) #两个输入\n",
    "    \n",
    "    def replace_target(self):\n",
    "        '''预测模型的权重更新到目标模型'''\n",
    "        # 软更新，这么做不行，getweights得到的是字符串，无法参与计算\n",
    "        # 完全不需要逐层进行参数获取和替换，可以直接获取全部参数\n",
    "        # 利用列表推导式计算软参数，并且进行更新\n",
    "        W_actor_evalu = self.actor_evalu.get_weights()\n",
    "        W_actor_evalu_tau = [w*TAU for w in W_actor_evalu]\n",
    "        W_actor_target = self.actor_target.get_weights()\n",
    "        W_actor_target_tau = [w*(1-TAU) for w in W_actor_target]\n",
    "        W_actor_replace = [w1+w2 for w1,w2 in zip(W_actor_evalu_tau, W_actor_target_tau)]\n",
    "        self.actor_target.set_weights(W_actor_replace)\n",
    "        \n",
    "        W_critic_evalu = self.critic_evalu.get_weights()\n",
    "        W_critic_evalu_tau = [w*TAU for w in W_critic_evalu]\n",
    "        W_critic_target = self.critic_target.get_weights()\n",
    "        W_critic_target_tau = [w*(1-TAU) for w in W_critic_target]\n",
    "        W_critic_replace = [w1+w2 for w1,w2 in zip(W_critic_evalu_tau, W_critic_target_tau)]\n",
    "        self.critic_target.set_weights(W_critic_replace)\n",
    "    \n",
    "    def store_transition(self, s, a, r, s_):\n",
    "        transition = np.hstack((s,a,[r],s_))\n",
    "        index = self.pointer % MEMORY_CAPACITY\n",
    "        self.memory[index, :] = transition\n",
    "        self.pointer += 1\n",
    "        \n",
    "    def choose_action(self, s):\n",
    "        s = np.expand_dims(s, axis=0)\n",
    "        a = self.actor_evalu(s)[0]  # 只为一个动作选a\n",
    "        return a\n",
    "    \n",
    "    def learn(self):\n",
    "        \n",
    "        #软更新每次都更新！\n",
    "        self.replace_target()\n",
    "\n",
    "        \n",
    "        #产生真正可用输入网络的量\n",
    "        indices = np.random.choice(MEMORY_CAPACITY, size=BATCH_SIZE)\n",
    "        bt = self.memory[indices, :]\n",
    "        bs = bt[:, :self.s_dim]\n",
    "        ba = bt[:, self.s_dim : self.s_dim + self.a_dim]\n",
    "        br = bt[:, -self.s_dim -1 : -self.s_dim]\n",
    "        bs_ = bt[:, -self.s_dim :]\n",
    "        \n",
    "        with tf.GradientTape() as a_tap,  tf.GradientTape() as  c_tap:\n",
    "            #有两个优化器，需要考虑tape的数目问题了，需要设置persistent=True，一个tape记录所有的梯度\n",
    "            a = self.actor_evalu(bs)  #就是我说的b_a_pr\n",
    "#             print('a_pred的样子:',a)\n",
    "            q = self.critic_evalu([bs, a])\n",
    "#             print('q的样子:',q)\n",
    "            a_loss = - tf.reduce_mean(q)\n",
    "#             print('a_loss的样子：',a_loss)\n",
    "            \n",
    "            \n",
    "            q1 = self.critic_evalu([bs, ba])\n",
    "            a_ = self.actor_target(bs_)\n",
    "            q_ = self.critic_target([bs_, a_])\n",
    "            q_target = br + GAMMA * q_\n",
    "            td_error = tf.losses.mean_squared_error(y_true=q_target, y_pred=q1)\n",
    "#             print('td_error的样子:',td_error)\n",
    "        \n",
    "        a_gradients = a_tap.gradient(a_loss, self.actor_evalu.trainable_variables)\n",
    "        c_gradients = c_tap.gradient(td_error, self.critic_evalu.trainable_variables)\n",
    "        \n",
    "        self.a_optimizer.apply_gradients(zip(a_gradients, self.actor_evalu.trainable_variables))\n",
    "        self.c_optimizer.apply_gradients(zip(c_gradients, self.critic_evalu.trainable_variables))\n"
   ]
  },
  {
   "cell_type": "code",
   "execution_count": 4,
   "metadata": {},
   "outputs": [],
   "source": [
    "env = gym.make(ENV_NAME)\n",
    "env = env.unwrapped\n",
    "env.seed(1)\n",
    "\n",
    "s_dim = env.observation_space.shape[0]\n",
    "a_dim = env.action_space.shape[0]\n",
    "a_bound = env.action_space.high\n",
    "\n",
    "ddpg = DDPG(a_dim, s_dim, a_bound)"
   ]
  },
  {
   "cell_type": "code",
   "execution_count": 5,
   "metadata": {},
   "outputs": [],
   "source": [
    "var = 3  # control exploration\n",
    "t1 = time.time()"
   ]
  },
  {
   "cell_type": "code",
   "execution_count": 6,
   "metadata": {},
   "outputs": [
    {
     "name": "stdout",
     "output_type": "stream",
     "text": [
      "Episode: 0  Reward: -1230 Explore: 3.00\n",
      "Episode: 1  Reward: -1227 Explore: 3.00\n",
      "Episode: 2  Reward: -1266 Explore: 3.00\n",
      "Episode: 3  Reward: -1308 Explore: 3.00\n",
      "Episode: 4  Reward: -1305 Explore: 3.00\n",
      "Episode: 5  Reward: -1587 Explore: 3.00\n",
      "Episode: 6  Reward: -1267 Explore: 3.00\n",
      "Episode: 7  Reward: -1310 Explore: 3.00\n",
      "Episode: 8  Reward: -1205 Explore: 3.00\n",
      "Episode: 9  Reward: -1223 Explore: 3.00\n",
      "Episode: 10  Reward: -1327 Explore: 3.00\n",
      "Episode: 11  Reward: -1177 Explore: 3.00\n",
      "Episode: 12  Reward: -1555 Explore: 3.00\n",
      "Episode: 13  Reward: -1321 Explore: 3.00\n",
      "Episode: 14  Reward: -1068 Explore: 3.00\n",
      "Episode: 15  Reward: -1661 Explore: 3.00\n",
      "Episode: 16  Reward: -1324 Explore: 3.00\n",
      "Episode: 17  Reward: -1330 Explore: 3.00\n",
      "Episode: 18  Reward: -1202 Explore: 3.00\n",
      "Episode: 19  Reward: -1207 Explore: 3.00\n",
      "Episode: 20  Reward: -1552 Explore: 3.00\n",
      "Episode: 21  Reward: -1195 Explore: 3.00\n",
      "Episode: 22  Reward: -1310 Explore: 3.00\n",
      "Episode: 23  Reward: -1628 Explore: 3.00\n",
      "Episode: 24  Reward: -900 Explore: 3.00\n",
      "Episode: 25  Reward: -1215 Explore: 3.00\n",
      "Episode: 26  Reward: -1258 Explore: 3.00\n",
      "Episode: 27  Reward: -1149 Explore: 3.00\n",
      "Episode: 28  Reward: -1247 Explore: 3.00\n",
      "Episode: 29  Reward: -1374 Explore: 3.00\n",
      "Episode: 30  Reward: -1117 Explore: 3.00\n",
      "Episode: 31  Reward: -1280 Explore: 3.00\n",
      "Episode: 32  Reward: -1327 Explore: 3.00\n",
      "Episode: 33  Reward: -1351 Explore: 3.00\n",
      "Episode: 34  Reward: -1169 Explore: 3.00\n",
      "Episode: 35  Reward: -1182 Explore: 3.00\n",
      "Episode: 36  Reward: -1322 Explore: 3.00\n",
      "Episode: 37  Reward: -1302 Explore: 3.00\n",
      "Episode: 38  Reward: -1114 Explore: 3.00\n",
      "Episode: 39  Reward: -1478 Explore: 3.00\n",
      "Episode: 40  Reward: -1356 Explore: 3.00\n",
      "Episode: 41  Reward: -1323 Explore: 3.00\n",
      "Episode: 42  Reward: -1152 Explore: 3.00\n",
      "Episode: 43  Reward: -1045 Explore: 3.00\n",
      "Episode: 44  Reward: -1184 Explore: 3.00\n",
      "Episode: 45  Reward: -1096 Explore: 3.00\n",
      "Episode: 46  Reward: -1189 Explore: 3.00\n",
      "Episode: 47  Reward: -1098 Explore: 3.00\n",
      "Episode: 48  Reward: -1289 Explore: 3.00\n",
      "Episode: 49  Reward: -1275 Explore: 3.00\n",
      "Episode: 50  Reward: -1370 Explore: 1.10\n",
      "Episode: 51  Reward: -1463 Explore: 0.40\n",
      "Episode: 52  Reward: -1549 Explore: 0.15\n",
      "Episode: 53  Reward: -1526 Explore: 0.05\n",
      "Episode: 54  Reward: -1526 Explore: 0.02\n",
      "Episode: 55  Reward: -1473 Explore: 0.01\n",
      "Episode: 56  Reward: -1539 Explore: 0.00\n",
      "Episode: 57  Reward: -1420 Explore: 0.00\n",
      "Episode: 58  Reward: -861 Explore: 0.00\n",
      "Episode: 59  Reward: -963 Explore: 0.00\n",
      "Episode: 60  Reward: -1244 Explore: 0.00\n",
      "Episode: 61  Reward: -1389 Explore: 0.00\n",
      "Episode: 62  Reward: -1329 Explore: 0.00\n",
      "Episode: 63  Reward: -1368 Explore: 0.00\n",
      "Episode: 64  Reward: -1059 Explore: 0.00\n",
      "Episode: 65  Reward: -539 Explore: 0.00\n",
      "Episode: 66  Reward: -275 Explore: 0.00\n",
      "Episode: 67  Reward: -1479 Explore: 0.00\n",
      "Episode: 68  Reward: -555 Explore: 0.00\n",
      "Episode: 69  Reward: -1503 Explore: 0.00\n",
      "Episode: 70  Reward: -136 Explore: 0.00\n",
      "Episode: 71  Reward: -590 Explore: 0.00\n",
      "Episode: 72  Reward: -269 Explore: 0.00\n",
      "Episode: 73  Reward: -264 Explore: 0.00\n",
      "Episode: 74  Reward: -137 Explore: 0.00\n",
      "Episode: 75  Reward: -399 Explore: 0.00\n",
      "Episode: 76  Reward: -396 Explore: 0.00\n",
      "Episode: 77  Reward: -401 Explore: 0.00\n",
      "Episode: 78  Reward: -523 Explore: 0.00\n",
      "Episode: 79  Reward: -383 Explore: 0.00\n",
      "Episode: 80  Reward: -518 Explore: 0.00\n",
      "Episode: 81  Reward: -1 Explore: 0.00\n",
      "Episode: 82  Reward: -409 Explore: 0.00\n",
      "Episode: 83  Reward: -419 Explore: 0.00\n",
      "Episode: 84  Reward: -271 Explore: 0.00\n",
      "Episode: 85  Reward: -267 Explore: 0.00\n",
      "Episode: 86  Reward: -138 Explore: 0.00\n",
      "Episode: 87  Reward: -264 Explore: 0.00\n",
      "Episode: 88  Reward: -272 Explore: 0.00\n",
      "Episode: 89  Reward: -134 Explore: 0.00\n",
      "Episode: 90  Reward: -1363 Explore: 0.00\n",
      "Episode: 91  Reward: -134 Explore: 0.00\n",
      "Episode: 92  Reward: -130 Explore: 0.00\n",
      "Episode: 93  Reward: -268 Explore: 0.00\n",
      "Episode: 94  Reward: -2 Explore: 0.00\n",
      "Episode: 95  Reward: -126 Explore: 0.00\n",
      "Episode: 96  Reward: -271 Explore: 0.00\n",
      "Episode: 97  Reward: -272 Explore: 0.00\n",
      "Episode: 98  Reward: -134 Explore: 0.00\n",
      "Episode: 99  Reward: -383 Explore: 0.00\n",
      "Episode: 100  Reward: -259 Explore: 0.00\n",
      "Episode: 101  Reward: -272 Explore: 0.00\n",
      "Episode: 102  Reward: -394 Explore: 0.00\n",
      "Episode: 103  Reward: -1 Explore: 0.00\n",
      "Episode: 104  Reward: -130 Explore: 0.00\n",
      "Episode: 105  Reward: 0 Explore: 0.00\n",
      "Episode: 106  Reward: -3 Explore: 0.00\n",
      "Episode: 107  Reward: -131 Explore: 0.00\n",
      "Episode: 108  Reward: -250 Explore: 0.00\n",
      "Episode: 109  Reward: -137 Explore: 0.00\n",
      "Episode: 110  Reward: -141 Explore: 0.00\n",
      "Episode: 111  Reward: -132 Explore: 0.00\n",
      "Episode: 112  Reward: -386 Explore: 0.00\n",
      "Episode: 113  Reward: -138 Explore: 0.00\n",
      "Episode: 114  Reward: -3 Explore: 0.00\n",
      "Episode: 115  Reward: -1410 Explore: 0.00\n",
      "Episode: 116  Reward: -244 Explore: 0.00\n",
      "Episode: 117  Reward: -387 Explore: 0.00\n",
      "Episode: 118  Reward: -4 Explore: 0.00\n",
      "Episode: 119  Reward: -289 Explore: 0.00\n",
      "Episode: 120  Reward: -270 Explore: 0.00\n",
      "Episode: 121  Reward: -138 Explore: 0.00\n",
      "Episode: 122  Reward: -249 Explore: 0.00\n",
      "Episode: 123  Reward: -1 Explore: 0.00\n",
      "Episode: 124  Reward: -132 Explore: 0.00\n",
      "Episode: 125  Reward: -136 Explore: 0.00\n",
      "Episode: 126  Reward: -272 Explore: 0.00\n",
      "Episode: 127  Reward: -534 Explore: 0.00\n",
      "Episode: 128  Reward: -3 Explore: 0.00\n",
      "Episode: 129  Reward: -4 Explore: 0.00\n",
      "Episode: 130  Reward: -2 Explore: 0.00\n",
      "Episode: 131  Reward: -260 Explore: 0.00\n",
      "Episode: 132  Reward: -1522 Explore: 0.00\n",
      "Episode: 133  Reward: -990 Explore: 0.00\n",
      "Episode: 134  Reward: -501 Explore: 0.00\n",
      "Episode: 135  Reward: -271 Explore: 0.00\n",
      "Episode: 136  Reward: -280 Explore: 0.00\n",
      "Episode: 137  Reward: -126 Explore: 0.00\n",
      "Episode: 138  Reward: -272 Explore: 0.00\n",
      "Episode: 139  Reward: -243 Explore: 0.00\n",
      "Episode: 140  Reward: -131 Explore: 0.00\n",
      "Episode: 141  Reward: -401 Explore: 0.00\n",
      "Episode: 142  Reward: -135 Explore: 0.00\n",
      "Episode: 143  Reward: -131 Explore: 0.00\n",
      "Episode: 144  Reward: -265 Explore: 0.00\n",
      "Episode: 145  Reward: -274 Explore: 0.00\n",
      "Episode: 146  Reward: -494 Explore: 0.00\n",
      "Episode: 147  Reward: -130 Explore: 0.00\n",
      "Episode: 148  Reward: -390 Explore: 0.00\n",
      "Episode: 149  Reward: -131 Explore: 0.00\n",
      "Episode: 150  Reward: -283 Explore: 0.00\n",
      "Episode: 151  Reward: -500 Explore: 0.00\n",
      "Episode: 152  Reward: -389 Explore: 0.00\n",
      "Episode: 153  Reward: 0 Explore: 0.00\n",
      "Episode: 154  Reward: -396 Explore: 0.00\n",
      "Episode: 155  Reward: -131 Explore: 0.00\n",
      "Episode: 156  Reward: -404 Explore: 0.00\n",
      "Episode: 157  Reward: -359 Explore: 0.00\n",
      "Episode: 158  Reward: -272 Explore: 0.00\n",
      "Episode: 159  Reward: -406 Explore: 0.00\n",
      "Episode: 160  Reward: -273 Explore: 0.00\n",
      "Episode: 161  Reward: -289 Explore: 0.00\n",
      "Episode: 162  Reward: -269 Explore: 0.00\n",
      "Episode: 163  Reward: -6 Explore: 0.00\n",
      "Episode: 164  Reward: -272 Explore: 0.00\n",
      "Episode: 165  Reward: -135 Explore: 0.00\n",
      "Episode: 166  Reward: -422 Explore: 0.00\n",
      "Episode: 167  Reward: -272 Explore: 0.00\n",
      "Episode: 168  Reward: -282 Explore: 0.00\n",
      "Episode: 169  Reward: -137 Explore: 0.00\n",
      "Episode: 170  Reward: -290 Explore: 0.00\n",
      "Episode: 171  Reward: -466 Explore: 0.00\n",
      "Episode: 172  Reward: -132 Explore: 0.00\n",
      "Episode: 173  Reward: -134 Explore: 0.00\n",
      "Episode: 174  Reward: -132 Explore: 0.00\n",
      "Episode: 175  Reward: -135 Explore: 0.00\n",
      "Episode: 176  Reward: -276 Explore: 0.00\n",
      "Episode: 177  Reward: -141 Explore: 0.00\n",
      "Episode: 178  Reward: -138 Explore: 0.00\n",
      "Episode: 179  Reward: -135 Explore: 0.00\n",
      "Episode: 180  Reward: -1256 Explore: 0.00\n",
      "Episode: 181  Reward: -285 Explore: 0.00\n",
      "Episode: 182  Reward: -270 Explore: 0.00\n",
      "Episode: 183  Reward: -133 Explore: 0.00\n",
      "Episode: 184  Reward: -392 Explore: 0.00\n",
      "Episode: 185  Reward: -135 Explore: 0.00\n",
      "Episode: 186  Reward: -134 Explore: 0.00\n",
      "Episode: 187  Reward: -137 Explore: 0.00\n",
      "Episode: 188  Reward: -135 Explore: 0.00\n",
      "Episode: 189  Reward: -266 Explore: 0.00\n",
      "Episode: 190  Reward: -310 Explore: 0.00\n",
      "Episode: 191  Reward: -514 Explore: 0.00\n",
      "Episode: 192  Reward: -138 Explore: 0.00\n",
      "Episode: 193  Reward: -6 Explore: 0.00\n",
      "Episode: 194  Reward: -709 Explore: 0.00\n",
      "Episode: 195  Reward: -413 Explore: 0.00\n",
      "Episode: 196  Reward: -266 Explore: 0.00\n",
      "Episode: 197  Reward: -4 Explore: 0.00\n",
      "Episode: 198  Reward: -268 Explore: 0.00\n",
      "Episode: 199  Reward: -276 Explore: 0.00\n",
      "Running time:  1159.1338877677917\n"
     ]
    }
   ],
   "source": [
    "for i in range(MAX_EPISODES):\n",
    "    s = env.reset()\n",
    "    ep_reward = 0\n",
    "    for j in range(MAX_EP_STEPS):\n",
    "        \n",
    "        if RENDER:\n",
    "            env.render()\n",
    "        \n",
    "        #加入训练噪声\n",
    "        a = ddpg.choose_action(s)\n",
    "        a = np.clip(np.random.normal(a, var), -2, 2)\n",
    "        s_, r, done, info = env.step(a)\n",
    "        \n",
    "        ddpg.store_transition(s, a, r/10, s_)\n",
    "        \n",
    "        if ddpg.pointer > MEMORY_CAPACITY:\n",
    "            var *= 0.995    #减弱噪声\n",
    "            ddpg.learn()\n",
    "        \n",
    "        s = s_\n",
    "        ep_reward += r\n",
    "        if j == MAX_EP_STEPS-1:\n",
    "            print('Episode:', i, ' Reward: %i' % int(ep_reward), 'Explore: %.2f' % var, )\n",
    "            if ep_reward > -300:RENDER = True\n",
    "            break\n",
    "print('Running time: ', time.time() - t1)\n",
    "ddpg.actor_evalu.save_weights('ddpg_actor_soft.h5')\n",
    "ddpg.critic_evalu.save_weights('ddpg_critic_soft.h5')"
   ]
  },
  {
   "cell_type": "markdown",
   "metadata": {},
   "source": [
    "# 测试代码"
   ]
  },
  {
   "cell_type": "code",
   "execution_count": 7,
   "metadata": {},
   "outputs": [],
   "source": [
    "ddpg_test = DDPG(a_dim, s_dim, a_bound)"
   ]
  },
  {
   "cell_type": "code",
   "execution_count": 8,
   "metadata": {},
   "outputs": [],
   "source": [
    "ddpg_test.actor_evalu.load_weights('ddpg_actor_soft.h5')\n",
    "ddpg_test.critic_evalu.load_weights('ddpg_critic_soft.h5')"
   ]
  },
  {
   "cell_type": "code",
   "execution_count": 10,
   "metadata": {},
   "outputs": [
    {
     "ename": "KeyboardInterrupt",
     "evalue": "",
     "output_type": "error",
     "traceback": [
      "\u001b[1;31m---------------------------------------------------------------------------\u001b[0m",
      "\u001b[1;31mKeyboardInterrupt\u001b[0m                         Traceback (most recent call last)",
      "\u001b[1;32m<ipython-input-10-1389eb3b2284>\u001b[0m in \u001b[0;36m<module>\u001b[1;34m\u001b[0m\n\u001b[0;32m      5\u001b[0m \u001b[0mobservation\u001b[0m \u001b[1;33m=\u001b[0m \u001b[0menv\u001b[0m\u001b[1;33m.\u001b[0m\u001b[0mreset\u001b[0m\u001b[1;33m(\u001b[0m\u001b[1;33m)\u001b[0m\u001b[1;33m\u001b[0m\u001b[1;33m\u001b[0m\u001b[0m\n\u001b[0;32m      6\u001b[0m \u001b[1;32mwhile\u001b[0m \u001b[1;32mTrue\u001b[0m\u001b[1;33m:\u001b[0m\u001b[1;33m\u001b[0m\u001b[1;33m\u001b[0m\u001b[0m\n\u001b[1;32m----> 7\u001b[1;33m     \u001b[0menv\u001b[0m\u001b[1;33m.\u001b[0m\u001b[0mrender\u001b[0m\u001b[1;33m(\u001b[0m\u001b[1;33m)\u001b[0m\u001b[1;33m\u001b[0m\u001b[1;33m\u001b[0m\u001b[0m\n\u001b[0m\u001b[0;32m      8\u001b[0m     \u001b[0maction\u001b[0m \u001b[1;33m=\u001b[0m \u001b[0mddpg_test\u001b[0m\u001b[1;33m.\u001b[0m\u001b[0mchoose_action\u001b[0m\u001b[1;33m(\u001b[0m\u001b[0mobservation\u001b[0m\u001b[1;33m)\u001b[0m\u001b[1;33m\u001b[0m\u001b[1;33m\u001b[0m\u001b[0m\n\u001b[0;32m      9\u001b[0m     \u001b[0mobservation_\u001b[0m\u001b[1;33m,\u001b[0m \u001b[0mreward\u001b[0m\u001b[1;33m,\u001b[0m \u001b[0mdone\u001b[0m\u001b[1;33m,\u001b[0m \u001b[0minfo\u001b[0m \u001b[1;33m=\u001b[0m \u001b[0menv\u001b[0m\u001b[1;33m.\u001b[0m\u001b[0mstep\u001b[0m\u001b[1;33m(\u001b[0m\u001b[0maction\u001b[0m\u001b[1;33m)\u001b[0m \u001b[1;31m#还有一个叫做info\u001b[0m\u001b[1;33m\u001b[0m\u001b[1;33m\u001b[0m\u001b[0m\n",
      "\u001b[1;32mD:\\conda\\envs\\tfgpu\\lib\\site-packages\\gym\\envs\\classic_control\\pendulum.py\u001b[0m in \u001b[0;36mrender\u001b[1;34m(self, mode)\u001b[0m\n\u001b[0;32m     91\u001b[0m             \u001b[0mself\u001b[0m\u001b[1;33m.\u001b[0m\u001b[0mimgtrans\u001b[0m\u001b[1;33m.\u001b[0m\u001b[0mscale\u001b[0m \u001b[1;33m=\u001b[0m \u001b[1;33m(\u001b[0m\u001b[1;33m-\u001b[0m\u001b[0mself\u001b[0m\u001b[1;33m.\u001b[0m\u001b[0mlast_u\u001b[0m \u001b[1;33m/\u001b[0m \u001b[1;36m2\u001b[0m\u001b[1;33m,\u001b[0m \u001b[0mnp\u001b[0m\u001b[1;33m.\u001b[0m\u001b[0mabs\u001b[0m\u001b[1;33m(\u001b[0m\u001b[0mself\u001b[0m\u001b[1;33m.\u001b[0m\u001b[0mlast_u\u001b[0m\u001b[1;33m)\u001b[0m \u001b[1;33m/\u001b[0m \u001b[1;36m2\u001b[0m\u001b[1;33m)\u001b[0m\u001b[1;33m\u001b[0m\u001b[1;33m\u001b[0m\u001b[0m\n\u001b[0;32m     92\u001b[0m \u001b[1;33m\u001b[0m\u001b[0m\n\u001b[1;32m---> 93\u001b[1;33m         \u001b[1;32mreturn\u001b[0m \u001b[0mself\u001b[0m\u001b[1;33m.\u001b[0m\u001b[0mviewer\u001b[0m\u001b[1;33m.\u001b[0m\u001b[0mrender\u001b[0m\u001b[1;33m(\u001b[0m\u001b[0mreturn_rgb_array\u001b[0m\u001b[1;33m=\u001b[0m\u001b[0mmode\u001b[0m \u001b[1;33m==\u001b[0m \u001b[1;34m'rgb_array'\u001b[0m\u001b[1;33m)\u001b[0m\u001b[1;33m\u001b[0m\u001b[1;33m\u001b[0m\u001b[0m\n\u001b[0m\u001b[0;32m     94\u001b[0m \u001b[1;33m\u001b[0m\u001b[0m\n\u001b[0;32m     95\u001b[0m     \u001b[1;32mdef\u001b[0m \u001b[0mclose\u001b[0m\u001b[1;33m(\u001b[0m\u001b[0mself\u001b[0m\u001b[1;33m)\u001b[0m\u001b[1;33m:\u001b[0m\u001b[1;33m\u001b[0m\u001b[1;33m\u001b[0m\u001b[0m\n",
      "\u001b[1;32mD:\\conda\\envs\\tfgpu\\lib\\site-packages\\gym\\envs\\classic_control\\rendering.py\u001b[0m in \u001b[0;36mrender\u001b[1;34m(self, return_rgb_array)\u001b[0m\n\u001b[0;32m    102\u001b[0m \u001b[1;33m\u001b[0m\u001b[0m\n\u001b[0;32m    103\u001b[0m     \u001b[1;32mdef\u001b[0m \u001b[0mrender\u001b[0m\u001b[1;33m(\u001b[0m\u001b[0mself\u001b[0m\u001b[1;33m,\u001b[0m \u001b[0mreturn_rgb_array\u001b[0m\u001b[1;33m=\u001b[0m\u001b[1;32mFalse\u001b[0m\u001b[1;33m)\u001b[0m\u001b[1;33m:\u001b[0m\u001b[1;33m\u001b[0m\u001b[1;33m\u001b[0m\u001b[0m\n\u001b[1;32m--> 104\u001b[1;33m         \u001b[0mglClearColor\u001b[0m\u001b[1;33m(\u001b[0m\u001b[1;36m1\u001b[0m\u001b[1;33m,\u001b[0m\u001b[1;36m1\u001b[0m\u001b[1;33m,\u001b[0m\u001b[1;36m1\u001b[0m\u001b[1;33m,\u001b[0m\u001b[1;36m1\u001b[0m\u001b[1;33m)\u001b[0m\u001b[1;33m\u001b[0m\u001b[1;33m\u001b[0m\u001b[0m\n\u001b[0m\u001b[0;32m    105\u001b[0m         \u001b[0mself\u001b[0m\u001b[1;33m.\u001b[0m\u001b[0mwindow\u001b[0m\u001b[1;33m.\u001b[0m\u001b[0mclear\u001b[0m\u001b[1;33m(\u001b[0m\u001b[1;33m)\u001b[0m\u001b[1;33m\u001b[0m\u001b[1;33m\u001b[0m\u001b[0m\n\u001b[0;32m    106\u001b[0m         \u001b[0mself\u001b[0m\u001b[1;33m.\u001b[0m\u001b[0mwindow\u001b[0m\u001b[1;33m.\u001b[0m\u001b[0mswitch_to\u001b[0m\u001b[1;33m(\u001b[0m\u001b[1;33m)\u001b[0m\u001b[1;33m\u001b[0m\u001b[1;33m\u001b[0m\u001b[0m\n",
      "\u001b[1;32mD:\\conda\\envs\\tfgpu\\lib\\site-packages\\pyglet\\gl\\lib.py\u001b[0m in \u001b[0;36merrcheck\u001b[1;34m(result, func, arguments)\u001b[0m\n\u001b[0;32m    102\u001b[0m         \u001b[1;32mraise\u001b[0m \u001b[0mGLException\u001b[0m\u001b[1;33m(\u001b[0m\u001b[1;34m'No GL context; create a Window first'\u001b[0m\u001b[1;33m)\u001b[0m\u001b[1;33m\u001b[0m\u001b[1;33m\u001b[0m\u001b[0m\n\u001b[0;32m    103\u001b[0m     \u001b[1;32mif\u001b[0m \u001b[1;32mnot\u001b[0m \u001b[0mcontext\u001b[0m\u001b[1;33m.\u001b[0m\u001b[0m_gl_begin\u001b[0m\u001b[1;33m:\u001b[0m\u001b[1;33m\u001b[0m\u001b[1;33m\u001b[0m\u001b[0m\n\u001b[1;32m--> 104\u001b[1;33m         \u001b[0merror\u001b[0m \u001b[1;33m=\u001b[0m \u001b[0mgl\u001b[0m\u001b[1;33m.\u001b[0m\u001b[0mglGetError\u001b[0m\u001b[1;33m(\u001b[0m\u001b[1;33m)\u001b[0m\u001b[1;33m\u001b[0m\u001b[1;33m\u001b[0m\u001b[0m\n\u001b[0m\u001b[0;32m    105\u001b[0m         \u001b[1;32mif\u001b[0m \u001b[0merror\u001b[0m\u001b[1;33m:\u001b[0m\u001b[1;33m\u001b[0m\u001b[1;33m\u001b[0m\u001b[0m\n\u001b[0;32m    106\u001b[0m             \u001b[0mmsg\u001b[0m \u001b[1;33m=\u001b[0m \u001b[0mctypes\u001b[0m\u001b[1;33m.\u001b[0m\u001b[0mcast\u001b[0m\u001b[1;33m(\u001b[0m\u001b[0mgl\u001b[0m\u001b[1;33m.\u001b[0m\u001b[0mgluErrorString\u001b[0m\u001b[1;33m(\u001b[0m\u001b[0merror\u001b[0m\u001b[1;33m)\u001b[0m\u001b[1;33m,\u001b[0m \u001b[0mctypes\u001b[0m\u001b[1;33m.\u001b[0m\u001b[0mc_char_p\u001b[0m\u001b[1;33m)\u001b[0m\u001b[1;33m.\u001b[0m\u001b[0mvalue\u001b[0m\u001b[1;33m\u001b[0m\u001b[1;33m\u001b[0m\u001b[0m\n",
      "\u001b[1;31mKeyboardInterrupt\u001b[0m: "
     ]
    }
   ],
   "source": [
    "#直接while不查看奖励了,像是静止了一样，太稳定了\n",
    "totle_steps = 0\n",
    "\n",
    "\n",
    "observation = env.reset()\n",
    "while True:\n",
    "    env.render()\n",
    "    action = ddpg_test.choose_action(observation)  \n",
    "    observation_, reward, done, info = env.step(action) #还有一个叫做info\n",
    "\n",
    "    if totle_steps-2000 > 20000:\n",
    "        break\n",
    "\n",
    "    observation = observation_\n",
    "    totle_steps += 1\n"
   ]
  },
  {
   "cell_type": "code",
   "execution_count": 11,
   "metadata": {},
   "outputs": [
    {
     "name": "stdout",
     "output_type": "stream",
     "text": [
      "Episode: 0  Reward: -272\n",
      "Episode: 1  Reward: -282\n"
     ]
    },
    {
     "ename": "KeyboardInterrupt",
     "evalue": "",
     "output_type": "error",
     "traceback": [
      "\u001b[1;31m---------------------------------------------------------------------------\u001b[0m",
      "\u001b[1;31mKeyboardInterrupt\u001b[0m                         Traceback (most recent call last)",
      "\u001b[1;32m<ipython-input-11-a0973b43cdf1>\u001b[0m in \u001b[0;36m<module>\u001b[1;34m\u001b[0m\n\u001b[0;32m      4\u001b[0m     \u001b[0mep_reward\u001b[0m \u001b[1;33m=\u001b[0m \u001b[1;36m0\u001b[0m\u001b[1;33m\u001b[0m\u001b[1;33m\u001b[0m\u001b[0m\n\u001b[0;32m      5\u001b[0m     \u001b[1;32mfor\u001b[0m \u001b[0mj\u001b[0m \u001b[1;32min\u001b[0m \u001b[0mrange\u001b[0m\u001b[1;33m(\u001b[0m\u001b[0mMAX_EP_STEPS\u001b[0m\u001b[1;33m)\u001b[0m\u001b[1;33m:\u001b[0m\u001b[1;33m\u001b[0m\u001b[1;33m\u001b[0m\u001b[0m\n\u001b[1;32m----> 6\u001b[1;33m         \u001b[0menv\u001b[0m\u001b[1;33m.\u001b[0m\u001b[0mrender\u001b[0m\u001b[1;33m(\u001b[0m\u001b[1;33m)\u001b[0m\u001b[1;33m\u001b[0m\u001b[1;33m\u001b[0m\u001b[0m\n\u001b[0m\u001b[0;32m      7\u001b[0m         \u001b[0ma\u001b[0m \u001b[1;33m=\u001b[0m \u001b[0mddpg_test\u001b[0m\u001b[1;33m.\u001b[0m\u001b[0mchoose_action\u001b[0m\u001b[1;33m(\u001b[0m\u001b[0ms\u001b[0m\u001b[1;33m)\u001b[0m\u001b[1;33m\u001b[0m\u001b[1;33m\u001b[0m\u001b[0m\n\u001b[0;32m      8\u001b[0m         \u001b[0ms_\u001b[0m\u001b[1;33m,\u001b[0m \u001b[0mr\u001b[0m\u001b[1;33m,\u001b[0m \u001b[0mdone\u001b[0m\u001b[1;33m,\u001b[0m \u001b[0minfo\u001b[0m \u001b[1;33m=\u001b[0m \u001b[0menv\u001b[0m\u001b[1;33m.\u001b[0m\u001b[0mstep\u001b[0m\u001b[1;33m(\u001b[0m\u001b[0ma\u001b[0m\u001b[1;33m)\u001b[0m\u001b[1;33m\u001b[0m\u001b[1;33m\u001b[0m\u001b[0m\n",
      "\u001b[1;32mD:\\conda\\envs\\tfgpu\\lib\\site-packages\\gym\\envs\\classic_control\\pendulum.py\u001b[0m in \u001b[0;36mrender\u001b[1;34m(self, mode)\u001b[0m\n\u001b[0;32m     91\u001b[0m             \u001b[0mself\u001b[0m\u001b[1;33m.\u001b[0m\u001b[0mimgtrans\u001b[0m\u001b[1;33m.\u001b[0m\u001b[0mscale\u001b[0m \u001b[1;33m=\u001b[0m \u001b[1;33m(\u001b[0m\u001b[1;33m-\u001b[0m\u001b[0mself\u001b[0m\u001b[1;33m.\u001b[0m\u001b[0mlast_u\u001b[0m \u001b[1;33m/\u001b[0m \u001b[1;36m2\u001b[0m\u001b[1;33m,\u001b[0m \u001b[0mnp\u001b[0m\u001b[1;33m.\u001b[0m\u001b[0mabs\u001b[0m\u001b[1;33m(\u001b[0m\u001b[0mself\u001b[0m\u001b[1;33m.\u001b[0m\u001b[0mlast_u\u001b[0m\u001b[1;33m)\u001b[0m \u001b[1;33m/\u001b[0m \u001b[1;36m2\u001b[0m\u001b[1;33m)\u001b[0m\u001b[1;33m\u001b[0m\u001b[1;33m\u001b[0m\u001b[0m\n\u001b[0;32m     92\u001b[0m \u001b[1;33m\u001b[0m\u001b[0m\n\u001b[1;32m---> 93\u001b[1;33m         \u001b[1;32mreturn\u001b[0m \u001b[0mself\u001b[0m\u001b[1;33m.\u001b[0m\u001b[0mviewer\u001b[0m\u001b[1;33m.\u001b[0m\u001b[0mrender\u001b[0m\u001b[1;33m(\u001b[0m\u001b[0mreturn_rgb_array\u001b[0m\u001b[1;33m=\u001b[0m\u001b[0mmode\u001b[0m \u001b[1;33m==\u001b[0m \u001b[1;34m'rgb_array'\u001b[0m\u001b[1;33m)\u001b[0m\u001b[1;33m\u001b[0m\u001b[1;33m\u001b[0m\u001b[0m\n\u001b[0m\u001b[0;32m     94\u001b[0m \u001b[1;33m\u001b[0m\u001b[0m\n\u001b[0;32m     95\u001b[0m     \u001b[1;32mdef\u001b[0m \u001b[0mclose\u001b[0m\u001b[1;33m(\u001b[0m\u001b[0mself\u001b[0m\u001b[1;33m)\u001b[0m\u001b[1;33m:\u001b[0m\u001b[1;33m\u001b[0m\u001b[1;33m\u001b[0m\u001b[0m\n",
      "\u001b[1;32mD:\\conda\\envs\\tfgpu\\lib\\site-packages\\gym\\envs\\classic_control\\rendering.py\u001b[0m in \u001b[0;36mrender\u001b[1;34m(self, return_rgb_array)\u001b[0m\n\u001b[0;32m    102\u001b[0m \u001b[1;33m\u001b[0m\u001b[0m\n\u001b[0;32m    103\u001b[0m     \u001b[1;32mdef\u001b[0m \u001b[0mrender\u001b[0m\u001b[1;33m(\u001b[0m\u001b[0mself\u001b[0m\u001b[1;33m,\u001b[0m \u001b[0mreturn_rgb_array\u001b[0m\u001b[1;33m=\u001b[0m\u001b[1;32mFalse\u001b[0m\u001b[1;33m)\u001b[0m\u001b[1;33m:\u001b[0m\u001b[1;33m\u001b[0m\u001b[1;33m\u001b[0m\u001b[0m\n\u001b[1;32m--> 104\u001b[1;33m         \u001b[0mglClearColor\u001b[0m\u001b[1;33m(\u001b[0m\u001b[1;36m1\u001b[0m\u001b[1;33m,\u001b[0m\u001b[1;36m1\u001b[0m\u001b[1;33m,\u001b[0m\u001b[1;36m1\u001b[0m\u001b[1;33m,\u001b[0m\u001b[1;36m1\u001b[0m\u001b[1;33m)\u001b[0m\u001b[1;33m\u001b[0m\u001b[1;33m\u001b[0m\u001b[0m\n\u001b[0m\u001b[0;32m    105\u001b[0m         \u001b[0mself\u001b[0m\u001b[1;33m.\u001b[0m\u001b[0mwindow\u001b[0m\u001b[1;33m.\u001b[0m\u001b[0mclear\u001b[0m\u001b[1;33m(\u001b[0m\u001b[1;33m)\u001b[0m\u001b[1;33m\u001b[0m\u001b[1;33m\u001b[0m\u001b[0m\n\u001b[0;32m    106\u001b[0m         \u001b[0mself\u001b[0m\u001b[1;33m.\u001b[0m\u001b[0mwindow\u001b[0m\u001b[1;33m.\u001b[0m\u001b[0mswitch_to\u001b[0m\u001b[1;33m(\u001b[0m\u001b[1;33m)\u001b[0m\u001b[1;33m\u001b[0m\u001b[1;33m\u001b[0m\u001b[0m\n",
      "\u001b[1;32mD:\\conda\\envs\\tfgpu\\lib\\site-packages\\pyglet\\gl\\lib.py\u001b[0m in \u001b[0;36merrcheck\u001b[1;34m(result, func, arguments)\u001b[0m\n\u001b[0;32m    102\u001b[0m         \u001b[1;32mraise\u001b[0m \u001b[0mGLException\u001b[0m\u001b[1;33m(\u001b[0m\u001b[1;34m'No GL context; create a Window first'\u001b[0m\u001b[1;33m)\u001b[0m\u001b[1;33m\u001b[0m\u001b[1;33m\u001b[0m\u001b[0m\n\u001b[0;32m    103\u001b[0m     \u001b[1;32mif\u001b[0m \u001b[1;32mnot\u001b[0m \u001b[0mcontext\u001b[0m\u001b[1;33m.\u001b[0m\u001b[0m_gl_begin\u001b[0m\u001b[1;33m:\u001b[0m\u001b[1;33m\u001b[0m\u001b[1;33m\u001b[0m\u001b[0m\n\u001b[1;32m--> 104\u001b[1;33m         \u001b[0merror\u001b[0m \u001b[1;33m=\u001b[0m \u001b[0mgl\u001b[0m\u001b[1;33m.\u001b[0m\u001b[0mglGetError\u001b[0m\u001b[1;33m(\u001b[0m\u001b[1;33m)\u001b[0m\u001b[1;33m\u001b[0m\u001b[1;33m\u001b[0m\u001b[0m\n\u001b[0m\u001b[0;32m    105\u001b[0m         \u001b[1;32mif\u001b[0m \u001b[0merror\u001b[0m\u001b[1;33m:\u001b[0m\u001b[1;33m\u001b[0m\u001b[1;33m\u001b[0m\u001b[0m\n\u001b[0;32m    106\u001b[0m             \u001b[0mmsg\u001b[0m \u001b[1;33m=\u001b[0m \u001b[0mctypes\u001b[0m\u001b[1;33m.\u001b[0m\u001b[0mcast\u001b[0m\u001b[1;33m(\u001b[0m\u001b[0mgl\u001b[0m\u001b[1;33m.\u001b[0m\u001b[0mgluErrorString\u001b[0m\u001b[1;33m(\u001b[0m\u001b[0merror\u001b[0m\u001b[1;33m)\u001b[0m\u001b[1;33m,\u001b[0m \u001b[0mctypes\u001b[0m\u001b[1;33m.\u001b[0m\u001b[0mc_char_p\u001b[0m\u001b[1;33m)\u001b[0m\u001b[1;33m.\u001b[0m\u001b[0mvalue\u001b[0m\u001b[1;33m\u001b[0m\u001b[1;33m\u001b[0m\u001b[0m\n",
      "\u001b[1;31mKeyboardInterrupt\u001b[0m: "
     ]
    }
   ],
   "source": [
    "#可以查看奖励\n",
    "for i in range(MAX_EPISODES):\n",
    "    s = env.reset()\n",
    "    ep_reward = 0\n",
    "    for j in range(MAX_EP_STEPS):\n",
    "        env.render()\n",
    "        a = ddpg_test.choose_action(s)\n",
    "        s_, r, done, info = env.step(a)\n",
    "        s = s_\n",
    "        ep_reward += r\n",
    "        if j == MAX_EP_STEPS-1:\n",
    "            print('Episode:', i, ' Reward: %i' % int(ep_reward))\n",
    "            break"
   ]
  },
  {
   "cell_type": "code",
   "execution_count": 7,
   "metadata": {},
   "outputs": [
    {
     "name": "stdout",
     "output_type": "stream",
     "text": [
      "[-0.35283079  0.93568715  0.02900014]\n"
     ]
    }
   ],
   "source": [
    "s = env.reset()\n",
    "print(s)"
   ]
  },
  {
   "cell_type": "code",
   "execution_count": 11,
   "metadata": {},
   "outputs": [
    {
     "name": "stdout",
     "output_type": "stream",
     "text": [
      "tf.Tensor([-1.9999927], shape=(1,), dtype=float32)\n",
      "[-0.37290053  0.92787132  0.43076659] -3.7343555344716237\n"
     ]
    }
   ],
   "source": [
    "a = ddpg_test.choose_action(s)\n",
    "print(a)\n",
    "s_, r, done, info = env.step(a)\n",
    "print(s_, r)"
   ]
  },
  {
   "cell_type": "code",
   "execution_count": 12,
   "metadata": {},
   "outputs": [],
   "source": [
    "ddpg_test.store_transition(s, a, r/10, s_)"
   ]
  },
  {
   "cell_type": "code",
   "execution_count": 15,
   "metadata": {},
   "outputs": [
    {
     "data": {
      "text/plain": [
       "array([-0.3528308 ,  0.9356871 ,  0.02900014, -1.9999927 , -0.37343556,\n",
       "       -0.37290055,  0.92787135,  0.43076658], dtype=float32)"
      ]
     },
     "execution_count": 15,
     "metadata": {},
     "output_type": "execute_result"
    }
   ],
   "source": [
    "ddpg_test.memory[0]"
   ]
  },
  {
   "cell_type": "markdown",
   "metadata": {},
   "source": [
    "# 杂乱的代码\n"
   ]
  },
  {
   "cell_type": "code",
   "execution_count": 5,
   "metadata": {},
   "outputs": [],
   "source": [
    "env = gym.make(ENV_NAME)"
   ]
  },
  {
   "cell_type": "code",
   "execution_count": 6,
   "metadata": {},
   "outputs": [],
   "source": [
    "bound = env.action_space.high"
   ]
  },
  {
   "cell_type": "code",
   "execution_count": 7,
   "metadata": {},
   "outputs": [],
   "source": [
    "ddpg = DDPG(1,3,bound)"
   ]
  },
  {
   "cell_type": "code",
   "execution_count": 8,
   "metadata": {},
   "outputs": [
    {
     "data": {
      "image/png": "[encoded data removed]",
      "text/plain": [
       "<IPython.core.display.Image object>"
      ]
     },
     "execution_count": 8,
     "metadata": {},
     "output_type": "execute_result"
    }
   ],
   "source": [
    "tf.keras.utils.plot_model(ddpg.actor_evalu, show_shapes=True)"
   ]
  },
  {
   "cell_type": "code",
   "execution_count": 9,
   "metadata": {},
   "outputs": [
    {
     "name": "stdout",
     "output_type": "stream",
     "text": [
      "Model: \"functional_1\"\n",
      "_________________________________________________________________\n",
      "Layer (type)                 Output Shape              Param #   \n",
      "=================================================================\n",
      "s (InputLayer)               [(None, 3)]               0         \n",
      "_________________________________________________________________\n",
      "l1 (Dense)                   (None, 30)                120       \n",
      "_________________________________________________________________\n",
      "a (Dense)                    (None, 1)                 31        \n",
      "_________________________________________________________________\n",
      "tf_op_layer_Mul (TensorFlowO [(None, 1)]               0         \n",
      "=================================================================\n",
      "Total params: 151\n",
      "Trainable params: 151\n",
      "Non-trainable params: 0\n",
      "_________________________________________________________________\n"
     ]
    }
   ],
   "source": [
    "ddpg.actor_evalu.summary()"
   ]
  },
  {
   "cell_type": "code",
   "execution_count": 10,
   "metadata": {},
   "outputs": [
    {
     "data": {
      "image/png": "[encoded data removed]",
      "text/plain": [
       "<IPython.core.display.Image object>"
      ]
     },
     "execution_count": 10,
     "metadata": {},
     "output_type": "execute_result"
    }
   ],
   "source": [
    "tf.keras.utils.plot_model(ddpg.critic_evalu, show_shapes=True)"
   ]
  },
  {
   "cell_type": "code",
   "execution_count": 11,
   "metadata": {},
   "outputs": [
    {
     "name": "stdout",
     "output_type": "stream",
     "text": [
      "Model: \"functional_5\"\n",
      "__________________________________________________________________________________________________\n",
      "Layer (type)                    Output Shape         Param #     Connected to                     \n",
      "==================================================================================================\n",
      "s (InputLayer)                  [(None, 3)]          0                                            \n",
      "__________________________________________________________________________________________________\n",
      "a (InputLayer)                  [(None, 1)]          0                                            \n",
      "__________________________________________________________________________________________________\n",
      "x1 (Dense)                      (None, 30)           120         s[0][0]                          \n",
      "__________________________________________________________________________________________________\n",
      "x2 (Dense)                      (None, 30)           60          a[0][0]                          \n",
      "__________________________________________________________________________________________________\n",
      "net (Add)                       (None, 30)           0           x1[0][0]                         \n",
      "                                                                 x2[0][0]                         \n",
      "__________________________________________________________________________________________________\n",
      "out (Dense)                     (None, 1)            31          net[0][0]                        \n",
      "==================================================================================================\n",
      "Total params: 211\n",
      "Trainable params: 211\n",
      "Non-trainable params: 0\n",
      "__________________________________________________________________________________________________\n"
     ]
    }
   ],
   "source": [
    "ddpg.critic_evalu.summary()"
   ]
  },
  {
   "cell_type": "code",
   "execution_count": 13,
   "metadata": {},
   "outputs": [],
   "source": [
    "s = env.reset()\n",
    "var = 3"
   ]
  },
  {
   "cell_type": "code",
   "execution_count": 15,
   "metadata": {},
   "outputs": [],
   "source": [
    "ep_reward = 0\n",
    "a = ddpg.choose_action(s)\n",
    "a = np.clip(np.random.normal(a, var),-2,2)"
   ]
  },
  {
   "cell_type": "code",
   "execution_count": 16,
   "metadata": {},
   "outputs": [],
   "source": [
    "s_,r,done,info = env.step(a)"
   ]
  },
  {
   "cell_type": "code",
   "execution_count": 17,
   "metadata": {},
   "outputs": [],
   "source": [
    "ddpg.store_transition(s, a, r/10, s_)"
   ]
  },
  {
   "cell_type": "code",
   "execution_count": 18,
   "metadata": {},
   "outputs": [],
   "source": [
    "s = s_"
   ]
  },
  {
   "cell_type": "code",
   "execution_count": 11,
   "metadata": {},
   "outputs": [
    {
     "ename": "NameError",
     "evalue": "name 'array' is not defined",
     "output_type": "error",
     "traceback": [
      "\u001b[1;31m---------------------------------------------------------------------------\u001b[0m",
      "\u001b[1;31mNameError\u001b[0m                                 Traceback (most recent call last)",
      "\u001b[1;32m<ipython-input-11-5e44b62cf623>\u001b[0m in \u001b[0;36m<module>\u001b[1;34m\u001b[0m\n\u001b[1;32m----> 1\u001b[1;33m w = [array([[ 0.22650075, -0.04818138, -0.24092893, -0.06707376, -0.05111709,\n\u001b[0m\u001b[0;32m      2\u001b[0m         \u001b[1;33m-\u001b[0m\u001b[1;36m0.14412057\u001b[0m\u001b[1;33m,\u001b[0m \u001b[1;33m-\u001b[0m\u001b[1;36m0.2824219\u001b[0m \u001b[1;33m,\u001b[0m  \u001b[1;36m0.34020507\u001b[0m\u001b[1;33m,\u001b[0m \u001b[1;33m-\u001b[0m\u001b[1;36m0.07084653\u001b[0m\u001b[1;33m,\u001b[0m  \u001b[1;36m0.03535682\u001b[0m\u001b[1;33m,\u001b[0m\u001b[1;33m\u001b[0m\u001b[1;33m\u001b[0m\u001b[0m\n\u001b[0;32m      3\u001b[0m          \u001b[1;36m0.3165906\u001b[0m \u001b[1;33m,\u001b[0m \u001b[1;33m-\u001b[0m\u001b[1;36m0.28021023\u001b[0m\u001b[1;33m,\u001b[0m  \u001b[1;36m0.10274851\u001b[0m\u001b[1;33m,\u001b[0m \u001b[1;33m-\u001b[0m\u001b[1;36m0.22276336\u001b[0m\u001b[1;33m,\u001b[0m \u001b[1;33m-\u001b[0m\u001b[1;36m0.07852638\u001b[0m\u001b[1;33m,\u001b[0m\u001b[1;33m\u001b[0m\u001b[1;33m\u001b[0m\u001b[0m\n\u001b[0;32m      4\u001b[0m          \u001b[1;36m0.12401122\u001b[0m\u001b[1;33m,\u001b[0m \u001b[1;33m-\u001b[0m\u001b[1;36m0.05541852\u001b[0m\u001b[1;33m,\u001b[0m \u001b[1;33m-\u001b[0m\u001b[1;36m0.30098647\u001b[0m\u001b[1;33m,\u001b[0m \u001b[1;33m-\u001b[0m\u001b[1;36m0.20384294\u001b[0m\u001b[1;33m,\u001b[0m \u001b[1;33m-\u001b[0m\u001b[1;36m0.33599034\u001b[0m\u001b[1;33m,\u001b[0m\u001b[1;33m\u001b[0m\u001b[1;33m\u001b[0m\u001b[0m\n\u001b[0;32m      5\u001b[0m         \u001b[1;33m-\u001b[0m\u001b[1;36m0.41517824\u001b[0m\u001b[1;33m,\u001b[0m \u001b[1;33m-\u001b[0m\u001b[1;36m0.03977954\u001b[0m\u001b[1;33m,\u001b[0m \u001b[1;33m-\u001b[0m\u001b[1;36m0.01731986\u001b[0m\u001b[1;33m,\u001b[0m  \u001b[1;36m0.33077407\u001b[0m\u001b[1;33m,\u001b[0m  \u001b[1;36m0.3703273\u001b[0m \u001b[1;33m,\u001b[0m\u001b[1;33m\u001b[0m\u001b[1;33m\u001b[0m\u001b[0m\n",
      "\u001b[1;31mNameError\u001b[0m: name 'array' is not defined"
     ]
    }
   ],
   "source": []
  },
  {
   "cell_type": "code",
   "execution_count": null,
   "metadata": {},
   "outputs": [],
   "source": []
  }
 ],
 "metadata": {
  "kernelspec": {
   "display_name": "Python 3",
   "language": "python",
   "name": "python3"
  },
  "language_info": {
   "codemirror_mode": {
    "name": "ipython",
    "version": 3
   },
   "file_extension": ".py",
   "mimetype": "text/x-python",
   "name": "python",
   "nbconvert_exporter": "python",
   "pygments_lexer": "ipython3",
   "version": "3.7.9"
  }
 },
 "nbformat": 4,
 "nbformat_minor": 4
}
